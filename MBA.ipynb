{
  "nbformat": 4,
  "nbformat_minor": 0,
  "metadata": {
    "colab": {
      "name": "MBA.ipynb",
      "provenance": [],
      "collapsed_sections": [],
      "authorship_tag": "ABX9TyOQ8ssV548TutiJgpTyGkZ2",
      "include_colab_link": true
    },
    "kernelspec": {
      "name": "python3",
      "display_name": "Python 3"
    },
    "language_info": {
      "name": "python"
    }
  },
  "cells": [
    {
      "cell_type": "markdown",
      "metadata": {
        "id": "view-in-github",
        "colab_type": "text"
      },
      "source": [
        "<a href=\"https://colab.research.google.com/github/elisaboccini/AMDproject/blob/main/MBA.ipynb\" target=\"_parent\"><img src=\"https://colab.research.google.com/assets/colab-badge.svg\" alt=\"Open In Colab\"/></a>"
      ]
    },
    {
      "cell_type": "markdown",
      "metadata": {
        "id": "QZ4K2MP0tOXk"
      },
      "source": [
        "**Market Basket Analysis**"
      ]
    },
    {
      "cell_type": "markdown",
      "metadata": {
        "id": "R-MLIkz0tbKg"
      },
      "source": [
        "Kaggle API"
      ]
    },
    {
      "cell_type": "code",
      "metadata": {
        "colab": {
          "resources": {
            "http://localhost:8080/nbextensions/google.colab/files.js": {
              "data": "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",
              "ok": true,
              "headers": [
                [
                  "content-type",
                  "application/javascript"
                ]
              ],
              "status": 200,
              "status_text": ""
            }
          },
          "base_uri": "https://localhost:8080/",
          "height": 91
        },
        "id": "987hO3tItH5O",
        "outputId": "fa762a8d-1523-4990-eeaf-5ad7f2efdab3"
      },
      "source": [
        "from google.colab import files\n",
        "files.upload() #upload kaggle.json"
      ],
      "execution_count": 1,
      "outputs": [
        {
          "output_type": "display_data",
          "data": {
            "text/html": [
              "\n",
              "     <input type=\"file\" id=\"files-831de79c-5b51-418b-8caa-439bcefb69e5\" name=\"files[]\" multiple disabled\n",
              "        style=\"border:none\" />\n",
              "     <output id=\"result-831de79c-5b51-418b-8caa-439bcefb69e5\">\n",
              "      Upload widget is only available when the cell has been executed in the\n",
              "      current browser session. Please rerun this cell to enable.\n",
              "      </output>\n",
              "      <script src=\"/nbextensions/google.colab/files.js\"></script> "
            ],
            "text/plain": [
              "<IPython.core.display.HTML object>"
            ]
          },
          "metadata": {
            "tags": []
          }
        },
        {
          "output_type": "stream",
          "text": [
            "Saving kaggle.json to kaggle.json\n"
          ],
          "name": "stdout"
        },
        {
          "output_type": "execute_result",
          "data": {
            "text/plain": [
              "{'kaggle.json': b'{\"username\":\"elisaboccini\",\"key\":\"3024605213579b61d22c8ab4775d25f4\"}'}"
            ]
          },
          "metadata": {
            "tags": []
          },
          "execution_count": 1
        }
      ]
    },
    {
      "cell_type": "code",
      "metadata": {
        "colab": {
          "base_uri": "https://localhost:8080/"
        },
        "id": "ib0sGwEUtfBB",
        "outputId": "c80ea528-c4dd-4a2d-d054-41bd29ef691b"
      },
      "source": [
        "#kaggle API \n",
        "!pip install -q kaggle\n",
        "!mkdir -p ~/.kaggle\n",
        "!cp kaggle.json ~/.kaggle/\n",
        "#!ls ~/.kaggle\n",
        "!chmod 600 /root/.kaggle/kaggle.json\n",
        "!kaggle datasets download -q ashirwadsangwan/imdb-dataset\n",
        "!unzip imdb-dataset.zip"
      ],
      "execution_count": 4,
      "outputs": [
        {
          "output_type": "stream",
          "text": [
            "Archive:  imdb-dataset.zip\n",
            "  inflating: name.basics.tsv.gz      \n",
            "  inflating: name.basics.tsv/name.basics.tsv  \n",
            "  inflating: title.akas.tsv.gz       \n",
            "  inflating: title.akas.tsv/title.akas.tsv  \n",
            "  inflating: title.basics.tsv.gz     \n",
            "  inflating: title.basics.tsv/title.basics.tsv  \n",
            "  inflating: title.principals.tsv.gz  \n",
            "  inflating: title.principals.tsv/title.principals.tsv  \n",
            "  inflating: title.ratings.tsv.gz    \n",
            "  inflating: title.ratings.tsv/title.ratings.tsv  \n"
          ],
          "name": "stdout"
        }
      ]
    },
    {
      "cell_type": "markdown",
      "metadata": {
        "id": "cJTw_527tnqi"
      },
      "source": [
        "Spark Session"
      ]
    },
    {
      "cell_type": "code",
      "metadata": {
        "colab": {
          "base_uri": "https://localhost:8080/"
        },
        "id": "VzN2Y31btfJq",
        "outputId": "6ce97d8e-a952-4620-e451-3163c59b89d8"
      },
      "source": [
        "!apt-get install openjdk-8-jdk-headless -qq > /dev/null\n",
        "!wget -q https://www-us.apache.org/dist/spark/spark-3.1.1/spark-3.1.1-bin-hadoop2.7.tgz \n",
        "!tar xf spark-3.1.1-bin-hadoop2.7.tgz\n",
        "!pip install -q findspark\n",
        "!pip install pyspark"
      ],
      "execution_count": 5,
      "outputs": [
        {
          "output_type": "stream",
          "text": [
            "Collecting pyspark\n",
            "\u001b[?25l  Downloading https://files.pythonhosted.org/packages/45/b0/9d6860891ab14a39d4bddf80ba26ce51c2f9dc4805e5c6978ac0472c120a/pyspark-3.1.1.tar.gz (212.3MB)\n",
            "\u001b[K     |████████████████████████████████| 212.3MB 77kB/s \n",
            "\u001b[?25hCollecting py4j==0.10.9\n",
            "\u001b[?25l  Downloading https://files.pythonhosted.org/packages/9e/b6/6a4fb90cd235dc8e265a6a2067f2a2c99f0d91787f06aca4bcf7c23f3f80/py4j-0.10.9-py2.py3-none-any.whl (198kB)\n",
            "\u001b[K     |████████████████████████████████| 204kB 48.3MB/s \n",
            "\u001b[?25hBuilding wheels for collected packages: pyspark\n",
            "  Building wheel for pyspark (setup.py) ... \u001b[?25l\u001b[?25hdone\n",
            "  Created wheel for pyspark: filename=pyspark-3.1.1-py2.py3-none-any.whl size=212767604 sha256=648d5489c59acc94d980072ac150b3165d24aafb38c8336bf1afa8252caefff8\n",
            "  Stored in directory: /root/.cache/pip/wheels/0b/90/c0/01de724414ef122bd05f056541fb6a0ecf47c7ca655f8b3c0f\n",
            "Successfully built pyspark\n",
            "Installing collected packages: py4j, pyspark\n",
            "Successfully installed py4j-0.10.9 pyspark-3.1.1\n"
          ],
          "name": "stdout"
        }
      ]
    },
    {
      "cell_type": "code",
      "metadata": {
        "id": "-557EwZXtfL_"
      },
      "source": [
        "import os\n",
        "os.environ[\"JAVA_HOME\"] = \"/usr/lib/jvm/java-8-openjdk-amd64\"\n",
        "os.environ[\"SPARK_HOME\"] = \"/content/spark-3.1.1-bin-hadoop2.7\""
      ],
      "execution_count": 6,
      "outputs": []
    },
    {
      "cell_type": "code",
      "metadata": {
        "id": "6GdmMsRLtfOh"
      },
      "source": [
        "import findspark\n",
        "findspark.init('spark-3.1.1-bin-hadoop2.7')"
      ],
      "execution_count": 7,
      "outputs": []
    },
    {
      "cell_type": "code",
      "metadata": {
        "id": "WA1Z5_sDtfQ1"
      },
      "source": [
        "from pyspark import SparkConf, SparkContext\n",
        "from pyspark.sql import SparkSession"
      ],
      "execution_count": 8,
      "outputs": []
    },
    {
      "cell_type": "code",
      "metadata": {
        "id": "0K75LkF6GJyU"
      },
      "source": [
        "spark = SparkSession.builder.enableHiveSupport().getOrCreate()"
      ],
      "execution_count": 9,
      "outputs": []
    },
    {
      "cell_type": "code",
      "metadata": {
        "colab": {
          "base_uri": "https://localhost:8080/"
        },
        "id": "QCoFp4wbtfWH",
        "outputId": "8e51d794-3afe-48a8-a1b6-4b0adef7339e"
      },
      "source": [
        "type(spark)"
      ],
      "execution_count": 10,
      "outputs": [
        {
          "output_type": "execute_result",
          "data": {
            "text/plain": [
              "pyspark.sql.session.SparkSession"
            ]
          },
          "metadata": {
            "tags": []
          },
          "execution_count": 10
        }
      ]
    },
    {
      "cell_type": "markdown",
      "metadata": {
        "id": "H-AkFH2-t_vA"
      },
      "source": [
        "Dataset"
      ]
    },
    {
      "cell_type": "code",
      "metadata": {
        "id": "U5_XT_UdtfZF"
      },
      "source": [
        "#actors-movies junction\n",
        "principals = spark.read.csv('title.principals.tsv.gz', sep=\"\\t\", header=True, inferSchema=True)\n",
        "\n",
        "#for movies' titles\n",
        "titlebasics = spark.read.csv('title.basics.tsv.gz', sep=\"\\t\", header=True, inferSchema=True)\n",
        "\n",
        "#for actors' names\n",
        "namesbasics = spark.read.csv('name.basics.tsv.gz', sep=\"\\t\", header=True, inferSchema=True)"
      ],
      "execution_count": 11,
      "outputs": []
    },
    {
      "cell_type": "code",
      "metadata": {
        "id": "SN3y_lHHtfck"
      },
      "source": [
        "principals.createOrReplaceTempView(\"principals\")\n",
        "titlebasics.createOrReplaceTempView(\"titlebasics\")\n",
        "namesbasics.createOrReplaceTempView(\"namesbasics\")"
      ],
      "execution_count": 12,
      "outputs": []
    },
    {
      "cell_type": "code",
      "metadata": {
        "colab": {
          "base_uri": "https://localhost:8080/"
        },
        "id": "CERkspnzuLt8",
        "outputId": "5854c9d5-5b0c-4600-a41d-72ca042dfe13"
      },
      "source": [
        "# drop duplicates\n",
        "titlebasics.dropDuplicates((['tconst'])).count() # 6326545\n",
        "namesbasics.dropDuplicates((['nconst'])).count() #9711022"
      ],
      "execution_count": 13,
      "outputs": [
        {
          "output_type": "execute_result",
          "data": {
            "text/plain": [
              "9711022"
            ]
          },
          "metadata": {
            "tags": []
          },
          "execution_count": 13
        }
      ]
    },
    {
      "cell_type": "markdown",
      "metadata": {
        "id": "kziMoxoq22Oz"
      },
      "source": [
        "Exploratory Analysis"
      ]
    },
    {
      "cell_type": "code",
      "metadata": {
        "colab": {
          "base_uri": "https://localhost:8080/"
        },
        "id": "r5uGLcuHu409",
        "outputId": "9ba1b6d0-bb24-4b99-efd5-0d8ef04a446c"
      },
      "source": [
        "#in titlebasics not only movies are stored\n",
        "spark.sql('''SELECT distinct (titleType)\n",
        "              FROM titlebasics''').show()"
      ],
      "execution_count": 14,
      "outputs": [
        {
          "output_type": "stream",
          "text": [
            "+------------+\n",
            "|   titleType|\n",
            "+------------+\n",
            "|    tvSeries|\n",
            "|tvMiniSeries|\n",
            "|     tvMovie|\n",
            "|   tvEpisode|\n",
            "|       movie|\n",
            "|   tvSpecial|\n",
            "|       video|\n",
            "|   videoGame|\n",
            "|     tvShort|\n",
            "|       short|\n",
            "+------------+\n",
            "\n"
          ],
          "name": "stdout"
        }
      ]
    },
    {
      "cell_type": "code",
      "metadata": {
        "colab": {
          "base_uri": "https://localhost:8080/"
        },
        "id": "4SICODm8uM46",
        "outputId": "0f2f8069-b78d-4c42-d6d8-c1b069884835"
      },
      "source": [
        "#Considering only actors (not crew) and only movies and shorts (not tvSeries, tvMiniSeries, tvEpisode, tvSpecial,video, videogames)\n",
        "data = spark.sql('''SELECT tb.tconst, tb.primaryTitle, nb.primaryName, nb.nconst \n",
        "                          FROM titlebasics as tb LEFT JOIN principals as p ON tb.tconst = p.tconst INNER JOIN namesbasics as nb ON p.nconst = nb.nconst\n",
        "                          WHERE ((p.category = 'actor' OR p.category = 'actress') AND (tb.titleType = 'movie' OR tb.titleType = 'tvMovie' OR tb.titleType = 'short' OR tb.titleType = 'tvShort')) ''')\n",
        "\n",
        "data.createOrReplaceTempView('data')\n",
        "data.show(5)\n",
        "data.count() #3686467\n",
        "# a more manageable dataset is obtained: the original principals table stores 14 mln records"
      ],
      "execution_count": 15,
      "outputs": [
        {
          "output_type": "stream",
          "text": [
            "+---------+-----------------+--------------+---------+\n",
            "|   tconst|     primaryTitle|   primaryName|   nconst|\n",
            "+---------+-----------------+--------------+---------+\n",
            "|tt0083109| The Cabbage Soup|Louis de Funès|nm0000086|\n",
            "|tt0062120|The Little Bather|Louis de Funès|nm0000086|\n",
            "|tt0057422|    Squeak-squeak|Louis de Funès|nm0000086|\n",
            "|tt0043691|     The Gamblers|Louis de Funès|nm0000086|\n",
            "|tt0335439| Station mondaine|Louis de Funès|nm0000086|\n",
            "+---------+-----------------+--------------+---------+\n",
            "only showing top 5 rows\n",
            "\n"
          ],
          "name": "stdout"
        },
        {
          "output_type": "execute_result",
          "data": {
            "text/plain": [
              "3686467"
            ]
          },
          "metadata": {
            "tags": []
          },
          "execution_count": 15
        }
      ]
    },
    {
      "cell_type": "code",
      "metadata": {
        "colab": {
          "base_uri": "https://localhost:8080/"
        },
        "id": "2BL1EwYYaR2E",
        "outputId": "c6cad33d-0721-4a3f-dfa1-d806863b76fe"
      },
      "source": [
        "#Handling null values\n",
        "spark.sql('''SELECT COUNT (tconst)\n",
        "              FROM data\n",
        "              WHERE (tconst = '/N') OR (primaryTitle = '/N') OR (primaryName = '/N') OR (nconst = '/N')''').show()"
      ],
      "execution_count": 16,
      "outputs": [
        {
          "output_type": "stream",
          "text": [
            "+-------------+\n",
            "|count(tconst)|\n",
            "+-------------+\n",
            "|            0|\n",
            "+-------------+\n",
            "\n"
          ],
          "name": "stdout"
        }
      ]
    },
    {
      "cell_type": "code",
      "metadata": {
        "colab": {
          "base_uri": "https://localhost:8080/"
        },
        "id": "i2W51vGUuM7O",
        "outputId": "6fe51b97-d165-4084-9528-a58e6b03c31a"
      },
      "source": [
        "#Counting all the different movies\n",
        "spark.sql('''select count(distinct tconst) \n",
        "            from data''').show() \n",
        "# 974512 "
      ],
      "execution_count": 17,
      "outputs": [
        {
          "output_type": "stream",
          "text": [
            "+----------------------+\n",
            "|count(DISTINCT tconst)|\n",
            "+----------------------+\n",
            "|                974512|\n",
            "+----------------------+\n",
            "\n"
          ],
          "name": "stdout"
        }
      ]
    },
    {
      "cell_type": "code",
      "metadata": {
        "colab": {
          "base_uri": "https://localhost:8080/"
        },
        "id": "0KnxRGtcuM9h",
        "outputId": "6ef4af47-8d0b-4a29-bebf-fd0baaaaf77f"
      },
      "source": [
        "#Counting all the different primaryTitles\n",
        "\n",
        "spark.sql('''select count(distinct primaryTitle) \n",
        "            from data''').show() \n",
        "#756111\n",
        "#This means there are homonyms in movies and shorts and therefore the baskets can not be created \n",
        "#grouping by primaryTitle"
      ],
      "execution_count": 18,
      "outputs": [
        {
          "output_type": "stream",
          "text": [
            "+----------------------------+\n",
            "|count(DISTINCT primaryTitle)|\n",
            "+----------------------------+\n",
            "|                      756111|\n",
            "+----------------------------+\n",
            "\n"
          ],
          "name": "stdout"
        }
      ]
    },
    {
      "cell_type": "markdown",
      "metadata": {
        "id": "paNSyj--xUWr"
      },
      "source": [
        "FP-Growth: pre-processing"
      ]
    },
    {
      "cell_type": "code",
      "metadata": {
        "colab": {
          "base_uri": "https://localhost:8080/"
        },
        "id": "5VBu6LlKuNAK",
        "outputId": "80cafd07-a728-435a-8454-84676ea841e1"
      },
      "source": [
        "#baskets creation\n",
        "from pyspark.sql.functions import collect_set\n",
        "\n",
        "moviesasbaskets = data.groupBy('tconst','primaryTitle').agg(collect_set('primaryName').alias('cast')) \n",
        "moviesasbaskets.createOrReplaceTempView('moviesasbaskets')\n",
        "\n",
        "moviesasbaskets.show(n=5)\n",
        "moviesasbaskets.count() \n",
        "#974512 \n",
        "#A basket for each tconst as wanted"
      ],
      "execution_count": 19,
      "outputs": [
        {
          "output_type": "stream",
          "text": [
            "+---------+--------------------+--------------------+\n",
            "|   tconst|        primaryTitle|                cast|\n",
            "+---------+--------------------+--------------------+\n",
            "|tt0000007|Corbett and Court...|[James J. Corbett...|\n",
            "|tt0000378|          Les vagues|[Julie Souplet, G...|\n",
            "|tt0000621|   That Fatal Sneeze|[Gertie Potter, T...|\n",
            "|tt0000653|A Calamitous Elop...|[John R. Cumpson,...|\n",
            "|tt0000841|       The Day After|[Marion Leonard, ...|\n",
            "+---------+--------------------+--------------------+\n",
            "only showing top 5 rows\n",
            "\n"
          ],
          "name": "stdout"
        },
        {
          "output_type": "execute_result",
          "data": {
            "text/plain": [
              "974512"
            ]
          },
          "metadata": {
            "tags": []
          },
          "execution_count": 19
        }
      ]
    },
    {
      "cell_type": "code",
      "metadata": {
        "colab": {
          "base_uri": "https://localhost:8080/"
        },
        "id": "WF6V7dC8uNCr",
        "outputId": "514d83e1-e37b-494f-f20e-764b0389c718"
      },
      "source": [
        "#Concatenating using hyphen\n",
        "# in order to keep the info about the title and not only the id\n",
        "from pyspark.sql import functions as f\n",
        "moviesasbaskets = moviesasbaskets.withColumn('movie', f.concat(f.col('tconst'),f.lit('-'),f.col('primaryTitle')))\n",
        "\n",
        "moviesasbaskets = moviesasbaskets.select('movie', 'cast')\n",
        "moviesasbaskets.show(5)"
      ],
      "execution_count": 20,
      "outputs": [
        {
          "output_type": "stream",
          "text": [
            "+--------------------+--------------------+\n",
            "|               movie|                cast|\n",
            "+--------------------+--------------------+\n",
            "|tt0000007-Corbett...|[James J. Corbett...|\n",
            "|tt0000378-Les vagues|[Julie Souplet, G...|\n",
            "|tt0000621-That Fa...|[Gertie Potter, T...|\n",
            "|tt0000653-A Calam...|[John R. Cumpson,...|\n",
            "|tt0000841-The Day...|[Marion Leonard, ...|\n",
            "+--------------------+--------------------+\n",
            "only showing top 5 rows\n",
            "\n"
          ],
          "name": "stdout"
        }
      ]
    },
    {
      "cell_type": "markdown",
      "metadata": {
        "id": "dyo0dIjBxc74"
      },
      "source": [
        "FP-Growth: Model implementation"
      ]
    },
    {
      "cell_type": "code",
      "metadata": {
        "id": "kVU2s6HXuNHo"
      },
      "source": [
        "# 0.0003 min Supp\n",
        "\n",
        "#excluding episodes in tvSeries, it is reasonable to consider frequent an actor if it appears in  292 films \n",
        "#(distinct tconst = 974512)*0.0003\n",
        "\n",
        "from pyspark.ml.fpm import FPGrowth\n",
        "fpGrowth = FPGrowth(itemsCol=\"cast\", minSupport=0.0003, minConfidence=0.6)\n",
        "modelFP = fpGrowth.fit(moviesasbaskets) "
      ],
      "execution_count": 21,
      "outputs": []
    },
    {
      "cell_type": "markdown",
      "metadata": {
        "id": "7mtLqPfBxlme"
      },
      "source": [
        "FP-Growth: Results"
      ]
    },
    {
      "cell_type": "code",
      "metadata": {
        "colab": {
          "base_uri": "https://localhost:8080/"
        },
        "id": "zve_Tj8RuNLW",
        "outputId": "8b8ce7c1-2e37-44cb-d04c-14468e8ad2e2"
      },
      "source": [
        "#Frequent itemsets\n",
        "from pyspark.sql.functions import col, asc,desc\n",
        "freqItemsets = modelFP.freqItemsets\n",
        "freqItemsets.createOrReplaceTempView(\"freqItemsets\")\n",
        "freqItemsets.orderBy(col('freq').desc()).show()"
      ],
      "execution_count": 22,
      "outputs": [
        {
          "output_type": "stream",
          "text": [
            "+--------------------+----+\n",
            "|               items|freq|\n",
            "+--------------------+----+\n",
            "|         [Mel Blanc]|1030|\n",
            "|  [Matsunosuke Onoe]| 932|\n",
            "|      [Brahmanandam]| 797|\n",
            "|       [Adoor Bhasi]| 585|\n",
            "|      [Eddie Garcia]| 510|\n",
            "|       [Jack Mercer]| 453|\n",
            "|        [Prem Nazir]| 436|\n",
            "|   [Jack Richardson]| 434|\n",
            "|         [Lee Moran]| 429|\n",
            "|      [Sung-il Shin]| 412|\n",
            "|       [Eddie Lyons]| 406|\n",
            "|      [Paquito Diaz]| 393|\n",
            "|      [Oliver Hardy]| 392|\n",
            "|  [Masayoshi Nogami]| 390|\n",
            "|[J. Warren Kerrigan]| 383|\n",
            "|         [Mammootty]| 381|\n",
            "|    [Aachi Manorama]| 356|\n",
            "|           [Bahadur]| 348|\n",
            "|          [Mohanlal]| 346|\n",
            "|[Gilbert M. 'Bron...| 342|\n",
            "+--------------------+----+\n",
            "only showing top 20 rows\n",
            "\n"
          ],
          "name": "stdout"
        }
      ]
    },
    {
      "cell_type": "code",
      "metadata": {
        "colab": {
          "base_uri": "https://localhost:8080/"
        },
        "id": "a91PefodwGun",
        "outputId": "9254c42f-c21b-4818-96c7-4fbbb974cfe3"
      },
      "source": [
        "#Association rules\n",
        "associationRules = modelFP.associationRules\n",
        "associationRules.createOrReplaceTempView(\"associationRules\")\n",
        "associationRules.show(n=5) "
      ],
      "execution_count": 23,
      "outputs": [
        {
          "output_type": "stream",
          "text": [
            "+-------------+-------------+------------------+------------------+--------------------+\n",
            "|   antecedent|   consequent|        confidence|              lift|             support|\n",
            "+-------------+-------------+------------------+------------------+--------------------+\n",
            "|[Eddie Lyons]|  [Lee Moran]|0.7832512315270936|1779.2254641909815|3.263171720820267E-4|\n",
            "|  [Lee Moran]|[Eddie Lyons]|0.7412587412587412|1779.2254641909813|3.263171720820267E-4|\n",
            "+-------------+-------------+------------------+------------------+--------------------+\n",
            "\n"
          ],
          "name": "stdout"
        }
      ]
    },
    {
      "cell_type": "code",
      "metadata": {
        "colab": {
          "base_uri": "https://localhost:8080/"
        },
        "id": "ALKvZn8PwG2z",
        "outputId": "73293a66-7986-46e5-c6a2-773fd30a14dd"
      },
      "source": [
        "# transform examines the input items against all the association rules and summarize\n",
        "# the consequents as prediction\n",
        "association = modelFP.transform(moviesasbaskets)\n",
        "association.createOrReplaceTempView('association')\n",
        "association.show()"
      ],
      "execution_count": 25,
      "outputs": [
        {
          "output_type": "stream",
          "text": [
            "+--------------------+--------------------+----------+\n",
            "|               movie|                cast|prediction|\n",
            "+--------------------+--------------------+----------+\n",
            "|tt0000007-Corbett...|[James J. Corbett...|        []|\n",
            "|tt0000378-Les vagues|[Julie Souplet, G...|        []|\n",
            "|tt0000621-That Fa...|[Gertie Potter, T...|        []|\n",
            "|tt0000653-A Calam...|[John R. Cumpson,...|        []|\n",
            "|tt0000841-The Day...|[Marion Leonard, ...|        []|\n",
            "|tt0001628-The Fou...|    [Norma Talmadge]|        []|\n",
            "|tt0001693-The Imm...|[Francis Ford, Wi...|        []|\n",
            "|tt0001820-The Out...|[Gilbert M. 'Bron...|        []|\n",
            "|tt0002453-The Rec...|[Harold Lockwood,...|        []|\n",
            "|tt0002870-Flood Tide|[Marie Eline, Lil...|        []|\n",
            "|tt0003172-The Mou...|[Gladden James, E...|        []|\n",
            "|tt0003404-The Sta...|[Theodor Burghard...|        []|\n",
            "|tt0003601-The Adv...|[Joe Evans, Fred ...|        []|\n",
            "|tt0003649-Back to...|[Oliver Hardy, Ma...|        []|\n",
            "|tt0003687-Bombs a...|[Rube Miller, Ali...|        []|\n",
            "|tt0003744-Called ...|[Herbert Rawlinso...|        []|\n",
            "|tt0004480-Politic...|[Norma Talmadge, ...|        []|\n",
            "|   tt0004603-Skottet|[William Larsson,...|        []|\n",
            "| tt0004688-The Thief|[Harry Spingler, ...|        []|\n",
            "|tt0004691-Those C...|[Billy Gilbert, M...|        []|\n",
            "+--------------------+--------------------+----------+\n",
            "only showing top 20 rows\n",
            "\n"
          ],
          "name": "stdout"
        }
      ]
    },
    {
      "cell_type": "code",
      "metadata": {
        "colab": {
          "base_uri": "https://localhost:8080/"
        },
        "id": "QKiih0Nww8cI",
        "outputId": "b2d86100-d657-4f3b-865d-af234bec0b40"
      },
      "source": [
        "spark.sql(\"\"\"select *\n",
        "             from association\n",
        "             where size(prediction) >= 1 \"\"\").show()"
      ],
      "execution_count": 26,
      "outputs": [
        {
          "output_type": "stream",
          "text": [
            "+--------------------+--------------------+-------------+\n",
            "|               movie|                cast|   prediction|\n",
            "+--------------------+--------------------+-------------+\n",
            "|tt0256990-The Par...|[William Bertram,...|  [Lee Moran]|\n",
            "|tt0339764-The Tan...|[Harry A. Pollard...|  [Lee Moran]|\n",
            "|tt8249264-Just in...|[Beth Darlington,...|  [Lee Moran]|\n",
            "|tt0329718-Upper a...|[Alberta Vaughn, ...|[Eddie Lyons]|\n",
            "|tt0349292-Cupid's...|[Louise Glaum, Ed...|  [Lee Moran]|\n",
            "|tt0332627-Game Hu...|[Queenie the Hors...|[Eddie Lyons]|\n",
            "|tt1318984-Three o...|[Dick Dewell, Jac...|[Eddie Lyons]|\n",
            "|tt0256646-Better ...|[Margarita Fische...|  [Lee Moran]|\n",
            "|tt0249766-A Lucky...|       [Eddie Lyons]|  [Lee Moran]|\n",
            "|tt0334494-Their T...|[Page Peters, Art...|[Eddie Lyons]|\n",
            "|tt0332698-A Man o...|[Stella Adams, Do...|[Eddie Lyons]|\n",
            "|tt1542726-Pickin'...|[Doris McMahon, B...|[Eddie Lyons]|\n",
            "|tt0334724-Women F...|[Alberta Vaughn, ...|[Eddie Lyons]|\n",
            "|tt0349256-The Cou...|[Louise Glaum, Ed...|  [Lee Moran]|\n",
            "|tt0860492-Once a ...|[Bobby Dunn, Eddi...|  [Lee Moran]|\n",
            "|tt0344125-Nothing...|[Margarita Fische...|  [Lee Moran]|\n",
            "|tt0326176-Snatche...|[Helen Wright, El...|  [Lee Moran]|\n",
            "|tt0345092-Cupid's...|[Stella Adams, Ed...|  [Lee Moran]|\n",
            "|tt0423949-Captain...|[Ruth Hiatt, Eddi...|  [Lee Moran]|\n",
            "|tt0350822-Dizzy D...|[Sunshine Hart, C...|[Eddie Lyons]|\n",
            "+--------------------+--------------------+-------------+\n",
            "only showing top 20 rows\n",
            "\n"
          ],
          "name": "stdout"
        }
      ]
    },
    {
      "cell_type": "code",
      "metadata": {
        "colab": {
          "base_uri": "https://localhost:8080/"
        },
        "id": "kkW9gDbZw8el",
        "outputId": "6e01658b-a513-4343-8500-3032d49253fe"
      },
      "source": [
        "#Most frequent actors\n",
        "mostfrequentactor= spark.sql(\"\"\"select items, freq\n",
        "                                    from freqItemsets\n",
        "                                    where size(items) = 1\n",
        "                                    order by freq desc\"\"\")\n",
        "mostfrequentactor.show(n=5)\n",
        "mostfrequentactor.count()"
      ],
      "execution_count": 27,
      "outputs": [
        {
          "output_type": "stream",
          "text": [
            "+------------------+----+\n",
            "|             items|freq|\n",
            "+------------------+----+\n",
            "|       [Mel Blanc]|1030|\n",
            "|[Matsunosuke Onoe]| 932|\n",
            "|    [Brahmanandam]| 797|\n",
            "|     [Adoor Bhasi]| 585|\n",
            "|    [Eddie Garcia]| 510|\n",
            "+------------------+----+\n",
            "only showing top 5 rows\n",
            "\n"
          ],
          "name": "stdout"
        },
        {
          "output_type": "execute_result",
          "data": {
            "text/plain": [
              "41"
            ]
          },
          "metadata": {
            "tags": []
          },
          "execution_count": 27
        }
      ]
    },
    {
      "cell_type": "code",
      "metadata": {
        "colab": {
          "base_uri": "https://localhost:8080/"
        },
        "id": "jIwOCb6kw8iL",
        "outputId": "718dcfe2-39a0-45ed-954e-6188061dd0b2"
      },
      "source": [
        "#Itemsets having size = 2\n",
        "mostfrequent2actors= spark.sql(\"\"\"select items, freq\n",
        "                                      from freqItemsets\n",
        "                                      where size(items) = 2\n",
        "                                      order by freq desc\"\"\")\n",
        "mostfrequent2actors.show(n=5)\n",
        "mostfrequent2actors.count()"
      ],
      "execution_count": 28,
      "outputs": [
        {
          "output_type": "stream",
          "text": [
            "+--------------------+----+\n",
            "|               items|freq|\n",
            "+--------------------+----+\n",
            "|[Eddie Lyons, Lee...| 318|\n",
            "+--------------------+----+\n",
            "\n"
          ],
          "name": "stdout"
        },
        {
          "output_type": "execute_result",
          "data": {
            "text/plain": [
              "1"
            ]
          },
          "metadata": {
            "tags": []
          },
          "execution_count": 28
        }
      ]
    },
    {
      "cell_type": "code",
      "metadata": {
        "id": "zzawyECZ7Ks9"
      },
      "source": [
        "#Lowering the threshold\n",
        "\n",
        "# 0.0001 min Supp\n",
        "fpGrowth1 = FPGrowth(itemsCol=\"cast\", minSupport=0.0001, minConfidence=0.6)\n",
        "modelFP1 = fpGrowth1.fit(moviesasbaskets) "
      ],
      "execution_count": 30,
      "outputs": []
    },
    {
      "cell_type": "code",
      "metadata": {
        "colab": {
          "base_uri": "https://localhost:8080/"
        },
        "id": "09atjffo7KpW",
        "outputId": "8d9678c5-7359-44f9-a461-2553759fd0ba"
      },
      "source": [
        "#Frequent itemsets\n",
        "freqItemsets1 = modelFP1.freqItemsets\n",
        "freqItemsets1.createOrReplaceTempView(\"freqItemsets1\")\n",
        "freqItemsets1.orderBy(col('freq').desc()).show()"
      ],
      "execution_count": 31,
      "outputs": [
        {
          "output_type": "stream",
          "text": [
            "+--------------------+----+\n",
            "|               items|freq|\n",
            "+--------------------+----+\n",
            "|         [Mel Blanc]|1030|\n",
            "|  [Matsunosuke Onoe]| 932|\n",
            "|      [Brahmanandam]| 797|\n",
            "|       [Adoor Bhasi]| 585|\n",
            "|      [Eddie Garcia]| 510|\n",
            "|       [Jack Mercer]| 453|\n",
            "|        [Prem Nazir]| 436|\n",
            "|   [Jack Richardson]| 434|\n",
            "|         [Lee Moran]| 429|\n",
            "|      [Sung-il Shin]| 412|\n",
            "|       [Eddie Lyons]| 406|\n",
            "|      [Paquito Diaz]| 393|\n",
            "|      [Oliver Hardy]| 392|\n",
            "|  [Masayoshi Nogami]| 390|\n",
            "|[J. Warren Kerrigan]| 383|\n",
            "|         [Mammootty]| 381|\n",
            "|    [Aachi Manorama]| 356|\n",
            "|           [Bahadur]| 348|\n",
            "|          [Mohanlal]| 346|\n",
            "|[Gilbert M. 'Bron...| 342|\n",
            "+--------------------+----+\n",
            "only showing top 20 rows\n",
            "\n"
          ],
          "name": "stdout"
        }
      ]
    },
    {
      "cell_type": "code",
      "metadata": {
        "colab": {
          "base_uri": "https://localhost:8080/"
        },
        "id": "PFZ1oPgS7KnA",
        "outputId": "5aa1b638-0f3c-4924-88ac-2a538f51ced9"
      },
      "source": [
        "#Association rules\n",
        "associationRules1 = modelFP1.associationRules\n",
        "associationRules1.createOrReplaceTempView(\"associationRules1\")\n",
        "associationRules1.show(n=5) "
      ],
      "execution_count": 32,
      "outputs": [
        {
          "output_type": "stream",
          "text": [
            "+--------------------+-------------------+------------------+------------------+--------------------+\n",
            "|          antecedent|         consequent|        confidence|              lift|             support|\n",
            "+--------------------+-------------------+------------------+------------------+--------------------+\n",
            "|[Curly Howard, La...|       [Moe Howard]|               1.0|4490.8387096774195|1.067200814356313...|\n",
            "|      [Larry Storch]|  [Norma MacMillan]|           0.78125|        6797.65625|1.026154629188763...|\n",
            "|[Kijaku Ôtani, Ma...| [Kitsuraku Arashi]| 0.743421052631579| 5406.512961508249|1.159554730983302...|\n",
            "|[Kijaku Ôtani, Ma...|[Suminojo Ichikawa]|0.6776315789473685|  5368.78134360291|1.056939268064426E-4|\n",
            "|        [Larry Fine]|       [Moe Howard]|0.9906103286384976| 4448.671210056035|2.165186267588290...|\n",
            "+--------------------+-------------------+------------------+------------------+--------------------+\n",
            "only showing top 5 rows\n",
            "\n"
          ],
          "name": "stdout"
        }
      ]
    },
    {
      "cell_type": "code",
      "metadata": {
        "colab": {
          "base_uri": "https://localhost:8080/"
        },
        "id": "8CKJnpOP7KkQ",
        "outputId": "e6d67a0b-8e91-4d28-8aff-b05acf88d4f6"
      },
      "source": [
        "#filtering association rules having confidence equal to 1\n",
        "spark.sql(\"\"\"select (*)\n",
        "           from associationRules1\n",
        "           where confidence = '1.0' \"\"\").show()"
      ],
      "execution_count": 34,
      "outputs": [
        {
          "output_type": "stream",
          "text": [
            "+--------------------+------------+----------+------------------+--------------------+\n",
            "|          antecedent|  consequent|confidence|              lift|             support|\n",
            "+--------------------+------------+----------+------------------+--------------------+\n",
            "|[Curly Howard, La...|[Moe Howard]|       1.0|4490.8387096774195|1.067200814356313...|\n",
            "|[Curly Howard, Mo...|[Larry Fine]|       1.0| 4575.173708920188|1.067200814356313...|\n",
            "+--------------------+------------+----------+------------------+--------------------+\n",
            "\n"
          ],
          "name": "stdout"
        }
      ]
    },
    {
      "cell_type": "code",
      "metadata": {
        "colab": {
          "base_uri": "https://localhost:8080/"
        },
        "id": "i7gn7gsN7Kh8",
        "outputId": "c48e357a-be4c-45c1-b6e7-e5290a1f5802"
      },
      "source": [
        "spark.sql(\"\"\"select antecedent as `IF`, consequent as `THEN`, confidence, lift\n",
        "              from associationRules1\n",
        "              where lift > 0\n",
        "              order by confidence desc\n",
        "              limit 20\"\"\").show()"
      ],
      "execution_count": 36,
      "outputs": [
        {
          "output_type": "stream",
          "text": [
            "+--------------------+--------------------+------------------+------------------+\n",
            "|                  IF|                THEN|        confidence|              lift|\n",
            "+--------------------+--------------------+------------------+------------------+\n",
            "|[Curly Howard, La...|        [Moe Howard]|               1.0|4490.8387096774195|\n",
            "|[Curly Howard, Mo...|        [Larry Fine]|               1.0| 4575.173708920188|\n",
            "|[Pauline Bush, Ja...|[J. Warren Kerrigan]|0.9919354838709677| 2523.898256548471|\n",
            "|        [Larry Fine]|        [Moe Howard]|0.9906103286384976| 4448.671210056035|\n",
            "|      [Curly Howard]|        [Larry Fine]|0.9904761904761905| 4531.600625978092|\n",
            "|      [Curly Howard]|        [Moe Howard]|0.9904761904761905| 4448.068817204301|\n",
            "|[Bebe Daniels, 'S...|      [Harold Lloyd]|0.9863945578231292| 4666.278317152103|\n",
            "|[Harold Lloyd, 'S...|      [Bebe Daniels]|0.9863945578231292| 4216.023391812865|\n",
            "|[Kitsuraku Arashi...|  [Matsunosuke Onoe]|0.9826086956521739|1027.4291472289606|\n",
            "|[Suminojo Ichikaw...|  [Matsunosuke Onoe]|0.9809523809523809|1025.6972818311874|\n",
            "|[Lillian Peacock,...|      [Billy Franey]|0.9805825242718447|2844.0161812297733|\n",
            "|[Harold Lloyd, Be...|    ['Snub' Pollard]|0.9797297297297297|2974.3251662877833|\n",
            "|  [Kitsuraku Arashi]|  [Matsunosuke Onoe]|0.9776119402985075|1022.2044712062008|\n",
            "|        [Moe Howard]|        [Larry Fine]|0.9723502304147466| 4448.671210056035|\n",
            "|[Winifred Greenwo...|      [Edward Coxen]|0.9655172413793104|3719.0044977511247|\n",
            "|  [Mrs. Sidney Drew]|       [Sidney Drew]| 0.961038961038961| 5509.082352941176|\n",
            "|   [Lillian Peacock]|      [Billy Franey]| 0.957983193277311| 2778.470588235294|\n",
            "| [Suminojo Ichikawa]|  [Matsunosuke Onoe]| 0.943089430894309| 986.1072612442863|\n",
            "|[Winifred Greenwo...|      [George Field]|0.9256198347107438| 4026.909090909091|\n",
            "|      [Kijaku Ôtani]|  [Matsunosuke Onoe]|0.9101796407185628| 951.6963326565752|\n",
            "+--------------------+--------------------+------------------+------------------+\n",
            "\n"
          ],
          "name": "stdout"
        }
      ]
    },
    {
      "cell_type": "code",
      "metadata": {
        "colab": {
          "base_uri": "https://localhost:8080/"
        },
        "id": "0mzHePu_7KS-",
        "outputId": "9f2bfca6-d4b2-4b71-deeb-8c9e84c2645b"
      },
      "source": [
        "#Most frequent actors\n",
        "mostfrequentactor1= spark.sql(\"\"\"select items, freq\n",
        "                                    from freqItemsets1\n",
        "                                    where size(items) = 1\n",
        "                                    order by freq desc\"\"\")\n",
        "mostfrequentactor1.show(n=5)\n",
        "mostfrequentactor1.count()"
      ],
      "execution_count": 37,
      "outputs": [
        {
          "output_type": "stream",
          "text": [
            "+------------------+----+\n",
            "|             items|freq|\n",
            "+------------------+----+\n",
            "|       [Mel Blanc]|1030|\n",
            "|[Matsunosuke Onoe]| 932|\n",
            "|    [Brahmanandam]| 797|\n",
            "|     [Adoor Bhasi]| 585|\n",
            "|    [Eddie Garcia]| 510|\n",
            "+------------------+----+\n",
            "only showing top 5 rows\n",
            "\n"
          ],
          "name": "stdout"
        },
        {
          "output_type": "execute_result",
          "data": {
            "text/plain": [
              "1342"
            ]
          },
          "metadata": {
            "tags": []
          },
          "execution_count": 37
        }
      ]
    },
    {
      "cell_type": "code",
      "metadata": {
        "colab": {
          "base_uri": "https://localhost:8080/"
        },
        "id": "LZwITBco8m5I",
        "outputId": "4f94ab74-860b-48fa-d5d6-f86050822221"
      },
      "source": [
        "#Itemsets having size = 2\n",
        "mostfrequent2actors1= spark.sql(\"\"\"select items, freq\n",
        "                                      from freqItemsets1\n",
        "                                      where size(items) = 2\n",
        "                                      order by freq desc\"\"\")\n",
        "mostfrequent2actors1.show(n=5)\n",
        "mostfrequent2actors1.count()"
      ],
      "execution_count": 38,
      "outputs": [
        {
          "output_type": "stream",
          "text": [
            "+--------------------+----+\n",
            "|               items|freq|\n",
            "+--------------------+----+\n",
            "|[Eddie Lyons, Lee...| 318|\n",
            "|[Prem Nazir, Adoo...| 236|\n",
            "|[Mae Questel, Jac...| 216|\n",
            "|[Larry Fine, Moe ...| 211|\n",
            "|[J. Warren Kerrig...| 186|\n",
            "+--------------------+----+\n",
            "only showing top 5 rows\n",
            "\n"
          ],
          "name": "stdout"
        },
        {
          "output_type": "execute_result",
          "data": {
            "text/plain": [
              "56"
            ]
          },
          "metadata": {
            "tags": []
          },
          "execution_count": 38
        }
      ]
    },
    {
      "cell_type": "code",
      "metadata": {
        "colab": {
          "base_uri": "https://localhost:8080/"
        },
        "id": "zD5l1vhL8m1u",
        "outputId": "40f275bc-ae22-4d8b-ec80-b200fe64855e"
      },
      "source": [
        "#Itemsets of size = 3\n",
        "mostfrequent3actors1= spark.sql(\"\"\"select items, freq\n",
        "                                      from freqItemsets1\n",
        "                                      where size(items) = 3\n",
        "                                      order by freq desc\"\"\")\n",
        "mostfrequent3actors1.show()\n",
        "mostfrequent3actors1.count() "
      ],
      "execution_count": 39,
      "outputs": [
        {
          "output_type": "stream",
          "text": [
            "+--------------------+----+\n",
            "|               items|freq|\n",
            "+--------------------+----+\n",
            "|[Harold Lloyd, Be...| 145|\n",
            "|[Pauline Bush, J....| 123|\n",
            "|[Milburn Morante,...| 119|\n",
            "|[Kitsuraku Arashi...| 113|\n",
            "|[Winifred Greenwo...| 112|\n",
            "|[Curly Howard, La...| 104|\n",
            "|[Vivian Rich, Lou...| 104|\n",
            "|[Suminojo Ichikaw...| 103|\n",
            "|[Lillian Peacock,...| 101|\n",
            "+--------------------+----+\n",
            "\n"
          ],
          "name": "stdout"
        },
        {
          "output_type": "execute_result",
          "data": {
            "text/plain": [
              "9"
            ]
          },
          "metadata": {
            "tags": []
          },
          "execution_count": 39
        }
      ]
    },
    {
      "cell_type": "code",
      "metadata": {
        "colab": {
          "base_uri": "https://localhost:8080/",
          "height": 318
        },
        "id": "r0tibGpZ8my-",
        "outputId": "00eb7dc9-2339-44c1-9578-c7080882a92e"
      },
      "source": [
        "spark.sql(\"\"\"select items\n",
        "              from freqItemsets1\n",
        "              where size(items) = 3\"\"\").toPandas()"
      ],
      "execution_count": 41,
      "outputs": [
        {
          "output_type": "execute_result",
          "data": {
            "text/html": [
              "<div>\n",
              "<style scoped>\n",
              "    .dataframe tbody tr th:only-of-type {\n",
              "        vertical-align: middle;\n",
              "    }\n",
              "\n",
              "    .dataframe tbody tr th {\n",
              "        vertical-align: top;\n",
              "    }\n",
              "\n",
              "    .dataframe thead th {\n",
              "        text-align: right;\n",
              "    }\n",
              "</style>\n",
              "<table border=\"1\" class=\"dataframe\">\n",
              "  <thead>\n",
              "    <tr style=\"text-align: right;\">\n",
              "      <th></th>\n",
              "      <th>items</th>\n",
              "    </tr>\n",
              "  </thead>\n",
              "  <tbody>\n",
              "    <tr>\n",
              "      <th>0</th>\n",
              "      <td>[Kitsuraku Arashi, Kijaku Ôtani, Matsunosuke O...</td>\n",
              "    </tr>\n",
              "    <tr>\n",
              "      <th>1</th>\n",
              "      <td>[Lillian Peacock, Gale Henry, Billy Franey]</td>\n",
              "    </tr>\n",
              "    <tr>\n",
              "      <th>2</th>\n",
              "      <td>[Pauline Bush, J. Warren Kerrigan, Jack Richar...</td>\n",
              "    </tr>\n",
              "    <tr>\n",
              "      <th>3</th>\n",
              "      <td>[Curly Howard, Larry Fine, Moe Howard]</td>\n",
              "    </tr>\n",
              "    <tr>\n",
              "      <th>4</th>\n",
              "      <td>[Vivian Rich, Louise Lester, Jack Richardson]</td>\n",
              "    </tr>\n",
              "    <tr>\n",
              "      <th>5</th>\n",
              "      <td>[Milburn Morante, Gale Henry, Billy Franey]</td>\n",
              "    </tr>\n",
              "    <tr>\n",
              "      <th>6</th>\n",
              "      <td>[Suminojo Ichikawa, Kijaku Ôtani, Matsunosuke ...</td>\n",
              "    </tr>\n",
              "    <tr>\n",
              "      <th>7</th>\n",
              "      <td>[Winifred Greenwood, George Field, Edward Coxen]</td>\n",
              "    </tr>\n",
              "    <tr>\n",
              "      <th>8</th>\n",
              "      <td>[Harold Lloyd, Bebe Daniels, 'Snub' Pollard]</td>\n",
              "    </tr>\n",
              "  </tbody>\n",
              "</table>\n",
              "</div>"
            ],
            "text/plain": [
              "                                               items\n",
              "0  [Kitsuraku Arashi, Kijaku Ôtani, Matsunosuke O...\n",
              "1        [Lillian Peacock, Gale Henry, Billy Franey]\n",
              "2  [Pauline Bush, J. Warren Kerrigan, Jack Richar...\n",
              "3             [Curly Howard, Larry Fine, Moe Howard]\n",
              "4      [Vivian Rich, Louise Lester, Jack Richardson]\n",
              "5        [Milburn Morante, Gale Henry, Billy Franey]\n",
              "6  [Suminojo Ichikawa, Kijaku Ôtani, Matsunosuke ...\n",
              "7   [Winifred Greenwood, George Field, Edward Coxen]\n",
              "8       [Harold Lloyd, Bebe Daniels, 'Snub' Pollard]"
            ]
          },
          "metadata": {
            "tags": []
          },
          "execution_count": 41
        }
      ]
    },
    {
      "cell_type": "code",
      "metadata": {
        "id": "od6V6V-_Vhgl"
      },
      "source": [
        "#spark.stop()"
      ],
      "execution_count": null,
      "outputs": []
    }
  ]
}