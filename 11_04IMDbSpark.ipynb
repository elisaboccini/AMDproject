{
  "nbformat": 4,
  "nbformat_minor": 0,
  "metadata": {
    "colab": {
      "name": "11.04IMDbSpark.ipynb",
      "provenance": [],
      "collapsed_sections": [],
      "authorship_tag": "ABX9TyMuBKzifa/oWtQSdf1C0g4o",
      "include_colab_link": true
    },
    "kernelspec": {
      "name": "python3",
      "display_name": "Python 3"
    },
    "language_info": {
      "name": "python"
    }
  },
  "cells": [
    {
      "cell_type": "markdown",
      "metadata": {
        "id": "view-in-github",
        "colab_type": "text"
      },
      "source": [
        "<a href=\"https://colab.research.google.com/github/elisaboccini/AMDproject/blob/main/11_04IMDbSpark.ipynb\" target=\"_parent\"><img src=\"https://colab.research.google.com/assets/colab-badge.svg\" alt=\"Open In Colab\"/></a>"
      ]
    },
    {
      "cell_type": "code",
      "metadata": {
        "id": "5fQRw0pa0MEG",
        "colab": {
          "resources": {
            "http://localhost:8080/nbextensions/google.colab/files.js": {
              "data": "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",
              "ok": true,
              "headers": [
                [
                  "content-type",
                  "application/javascript"
                ]
              ],
              "status": 200,
              "status_text": ""
            }
          },
          "base_uri": "https://localhost:8080/",
          "height": 91
        },
        "outputId": "5b9f9794-95f3-41d7-ba0e-f56b98dd647f"
      },
      "source": [
        "from google.colab import files\n",
        "files.upload() #upload kaggle.json"
      ],
      "execution_count": 1,
      "outputs": [
        {
          "output_type": "display_data",
          "data": {
            "text/html": [
              "\n",
              "     <input type=\"file\" id=\"files-1c651fe9-d76e-4469-8961-2dff30a988b7\" name=\"files[]\" multiple disabled\n",
              "        style=\"border:none\" />\n",
              "     <output id=\"result-1c651fe9-d76e-4469-8961-2dff30a988b7\">\n",
              "      Upload widget is only available when the cell has been executed in the\n",
              "      current browser session. Please rerun this cell to enable.\n",
              "      </output>\n",
              "      <script src=\"/nbextensions/google.colab/files.js\"></script> "
            ],
            "text/plain": [
              "<IPython.core.display.HTML object>"
            ]
          },
          "metadata": {
            "tags": []
          }
        },
        {
          "output_type": "stream",
          "text": [
            "Saving kaggle.json to kaggle.json\n"
          ],
          "name": "stdout"
        },
        {
          "output_type": "execute_result",
          "data": {
            "text/plain": [
              "{'kaggle.json': b'{\"username\":\"elisaboccini\",\"key\":\"3024605213579b61d22c8ab4775d25f4\"}'}"
            ]
          },
          "metadata": {
            "tags": []
          },
          "execution_count": 1
        }
      ]
    },
    {
      "cell_type": "code",
      "metadata": {
        "id": "H9-V58Zm09gd",
        "colab": {
          "base_uri": "https://localhost:8080/"
        },
        "outputId": "c05cbc07-7cf0-4f0d-f77b-44c2b61074d4"
      },
      "source": [
        "#kaggle API \n",
        "!pip install -q kaggle\n",
        "!mkdir -p ~/.kaggle\n",
        "!cp kaggle.json ~/.kaggle/\n",
        "!ls ~/.kaggle\n",
        "!chmod 600 /root/.kaggle/kaggle.json\n",
        "!kaggle datasets download -q ashirwadsangwan/imdb-dataset\n",
        "!unzip imdb-dataset.zip"
      ],
      "execution_count": 2,
      "outputs": [
        {
          "output_type": "stream",
          "text": [
            "kaggle.json\n",
            "Archive:  imdb-dataset.zip\n",
            "  inflating: name.basics.tsv.gz      \n",
            "  inflating: name.basics.tsv/name.basics.tsv  \n",
            "  inflating: title.akas.tsv.gz       \n",
            "  inflating: title.akas.tsv/title.akas.tsv  \n",
            "  inflating: title.basics.tsv.gz     \n",
            "  inflating: title.basics.tsv/title.basics.tsv  \n",
            "  inflating: title.principals.tsv.gz  \n",
            "  inflating: title.principals.tsv/title.principals.tsv  \n",
            "  inflating: title.ratings.tsv.gz    \n",
            "  inflating: title.ratings.tsv/title.ratings.tsv  \n"
          ],
          "name": "stdout"
        }
      ]
    },
    {
      "cell_type": "code",
      "metadata": {
        "id": "7nBzMwIR09i4",
        "colab": {
          "base_uri": "https://localhost:8080/"
        },
        "outputId": "becd2c30-f6fb-4a12-d4a3-2bee55aa4ea7"
      },
      "source": [
        "#Spark session creation\n",
        "\n",
        "!apt-get install openjdk-8-jdk-headless -qq > /dev/null\n",
        "!wget -q https://www-us.apache.org/dist/spark/spark-3.1.1/spark-3.1.1-bin-hadoop2.7.tgz \n",
        "!tar xf spark-3.1.1-bin-hadoop2.7.tgz\n",
        "!pip install -q findspark\n",
        "!pip install pyspark"
      ],
      "execution_count": 3,
      "outputs": [
        {
          "output_type": "stream",
          "text": [
            "Collecting pyspark\n",
            "\u001b[?25l  Downloading https://files.pythonhosted.org/packages/45/b0/9d6860891ab14a39d4bddf80ba26ce51c2f9dc4805e5c6978ac0472c120a/pyspark-3.1.1.tar.gz (212.3MB)\n",
            "\u001b[K     |████████████████████████████████| 212.3MB 71kB/s \n",
            "\u001b[?25hCollecting py4j==0.10.9\n",
            "\u001b[?25l  Downloading https://files.pythonhosted.org/packages/9e/b6/6a4fb90cd235dc8e265a6a2067f2a2c99f0d91787f06aca4bcf7c23f3f80/py4j-0.10.9-py2.py3-none-any.whl (198kB)\n",
            "\u001b[K     |████████████████████████████████| 204kB 49.6MB/s \n",
            "\u001b[?25hBuilding wheels for collected packages: pyspark\n",
            "  Building wheel for pyspark (setup.py) ... \u001b[?25l\u001b[?25hdone\n",
            "  Created wheel for pyspark: filename=pyspark-3.1.1-py2.py3-none-any.whl size=212767604 sha256=1cab08861a0198d9313d77de6d4430301b0aeaaa3dc670140523e0ffdc5e8215\n",
            "  Stored in directory: /root/.cache/pip/wheels/0b/90/c0/01de724414ef122bd05f056541fb6a0ecf47c7ca655f8b3c0f\n",
            "Successfully built pyspark\n",
            "Installing collected packages: py4j, pyspark\n",
            "Successfully installed py4j-0.10.9 pyspark-3.1.1\n"
          ],
          "name": "stdout"
        }
      ]
    },
    {
      "cell_type": "code",
      "metadata": {
        "id": "Pm_iPBPb09lp"
      },
      "source": [
        "import os\n",
        "os.environ[\"JAVA_HOME\"] = \"/usr/lib/jvm/java-8-openjdk-amd64\"\n",
        "os.environ[\"SPARK_HOME\"] = \"/content/spark-3.1.1-bin-hadoop2.7\""
      ],
      "execution_count": 4,
      "outputs": []
    },
    {
      "cell_type": "code",
      "metadata": {
        "id": "EuUwAkVw09oU"
      },
      "source": [
        "import findspark\n",
        "findspark.init('spark-3.1.1-bin-hadoop2.7')"
      ],
      "execution_count": 5,
      "outputs": []
    },
    {
      "cell_type": "code",
      "metadata": {
        "id": "n8x0OAdl09qz"
      },
      "source": [
        "from pyspark.sql import SparkSession"
      ],
      "execution_count": 6,
      "outputs": []
    },
    {
      "cell_type": "code",
      "metadata": {
        "id": "POPASdzZ09tj"
      },
      "source": [
        "#spark = SparkSession.builder.master(\"local[*]\").getOrCreate()\n",
        "#try with 4 g to avoid garbage collection\n",
        "spark = SparkSession.builder.master(\"local\")\\\n",
        "        .appName(\"MBA\")\\\n",
        "        .config('spark.ui.port', '4050')\\\n",
        "        .config(\"spark.driver.memory\", \"15g\") \\\n",
        "        .config(\"spark.driver.maxResultSize\", \"1g\") \\\n",
        "        .config(\"spark.sql.broadcastTimeout\", \"10h\") \\\n",
        "        .getOrCreate()"
      ],
      "execution_count": 7,
      "outputs": []
    },
    {
      "cell_type": "code",
      "metadata": {
        "id": "JAV_yUfP09wB",
        "colab": {
          "base_uri": "https://localhost:8080/"
        },
        "outputId": "b0385807-5965-4e10-e604-7ba1bcc0302c"
      },
      "source": [
        "import pyspark\n",
        "type(spark)"
      ],
      "execution_count": 8,
      "outputs": [
        {
          "output_type": "execute_result",
          "data": {
            "text/plain": [
              "pyspark.sql.session.SparkSession"
            ]
          },
          "metadata": {
            "tags": []
          },
          "execution_count": 8
        }
      ]
    },
    {
      "cell_type": "code",
      "metadata": {
        "id": "mp2b1kl609y3"
      },
      "source": [
        "sc = spark.sparkContext"
      ],
      "execution_count": 9,
      "outputs": []
    },
    {
      "cell_type": "code",
      "metadata": {
        "id": "--qnMyzw091j"
      },
      "source": [
        "principals = spark.read.csv('title.principals.tsv.gz', sep=\"\\t\", header=True, inferSchema=True)\n",
        "#akas = spark.read.csv('title.akas.tsv.gz', sep=\"\\t\", header=True, inferSchema=True)\n",
        "titlebasics = spark.read.csv('title.basics.tsv.gz', sep=\"\\t\", header=True, inferSchema=True)\n",
        "#ratings = spark.read.csv('title.ratings.tsv.gz', sep=\"\\t\", header=True, inferSchema=True)\n",
        "namesbasics = spark.read.csv('name.basics.tsv.gz', sep=\"\\t\", header=True, inferSchema=True)"
      ],
      "execution_count": 10,
      "outputs": []
    },
    {
      "cell_type": "code",
      "metadata": {
        "id": "KSUYQT7P094I"
      },
      "source": [
        "principals.createOrReplaceTempView(\"principals\")\n",
        "#akas.createOrReplaceTempView(\"akas\")\n",
        "titlebasics.createOrReplaceTempView(\"titlebasics\")\n",
        "#ratings.createOrReplaceTempView(\"ratings\")\n",
        "namesbasics.createOrReplaceTempView(\"namesbasics\")"
      ],
      "execution_count": 11,
      "outputs": []
    },
    {
      "cell_type": "code",
      "metadata": {
        "id": "gJYqmZOR096k",
        "colab": {
          "base_uri": "https://localhost:8080/"
        },
        "outputId": "b937e381-5c1d-4b37-e7bc-4afed3aa2c6a"
      },
      "source": [
        "# read csv of principals, titlebasics and namesbasics\n",
        "# drop duplicates in titlebasics\n",
        "titlebasics.dropDuplicates((['tconst'])).count() # 6326545"
      ],
      "execution_count": 12,
      "outputs": [
        {
          "output_type": "execute_result",
          "data": {
            "text/plain": [
              "DataFrame[tconst: string, titleType: string, primaryTitle: string, originalTitle: string, isAdult: int, startYear: string, endYear: string, runtimeMinutes: string, genres: string]"
            ]
          },
          "metadata": {
            "tags": []
          },
          "execution_count": 12
        }
      ]
    },
    {
      "cell_type": "code",
      "metadata": {
        "colab": {
          "base_uri": "https://localhost:8080/"
        },
        "id": "0rBEiGamH4SO",
        "outputId": "ed0b9907-8f7a-4680-f56b-466c0b7b4b34"
      },
      "source": [
        "namesbasics.dropDuplicates((['nconst'])).count() #9711022"
      ],
      "execution_count": 13,
      "outputs": [
        {
          "output_type": "execute_result",
          "data": {
            "text/plain": [
              "DataFrame[nconst: string, primaryName: string, birthYear: string, deathYear: string, primaryProfession: string, knownForTitles: string]"
            ]
          },
          "metadata": {
            "tags": []
          },
          "execution_count": 13
        }
      ]
    },
    {
      "cell_type": "code",
      "metadata": {
        "id": "HQxa4dDd099W",
        "colab": {
          "base_uri": "https://localhost:8080/"
        },
        "outputId": "07ed7289-0397-49dc-e0f8-36e6894b396a"
      },
      "source": [
        "data1 = spark.sql('''SELECT tb.tconst, tb.primaryTitle, nb.primaryName, nb.nconst \n",
        "                          FROM titlebasics as tb LEFT JOIN principals as p ON tb.tconst = p.tconst INNER JOIN namesbasics as nb ON p.nconst = nb.nconst\n",
        "                          WHERE p.category = 'actor' OR p.category = 'actress' ''')\n",
        "\n",
        "data1.createOrReplaceTempView('data1')\n",
        "data1.show(5)\n",
        "data1.count() #14mln"
      ],
      "execution_count": 14,
      "outputs": [
        {
          "output_type": "stream",
          "text": [
            "+---------+-----------------+--------------+---------+\n",
            "|   tconst|     primaryTitle|   primaryName|   nconst|\n",
            "+---------+-----------------+--------------+---------+\n",
            "|tt0083109| The Cabbage Soup|Louis de Funès|nm0000086|\n",
            "|tt0062120|The Little Bather|Louis de Funès|nm0000086|\n",
            "|tt0057422|    Squeak-squeak|Louis de Funès|nm0000086|\n",
            "|tt0043691|     The Gamblers|Louis de Funès|nm0000086|\n",
            "|tt0335439| Station mondaine|Louis de Funès|nm0000086|\n",
            "+---------+-----------------+--------------+---------+\n",
            "only showing top 5 rows\n",
            "\n"
          ],
          "name": "stdout"
        },
        {
          "output_type": "execute_result",
          "data": {
            "text/plain": [
              "14811027"
            ]
          },
          "metadata": {
            "tags": []
          },
          "execution_count": 14
        }
      ]
    },
    {
      "cell_type": "code",
      "metadata": {
        "id": "kF0ZnVHI09_6",
        "colab": {
          "base_uri": "https://localhost:8080/"
        },
        "outputId": "1f7d6dfa-11ba-42b5-a849-dd4f23f468e6"
      },
      "source": [
        "actor_movies_d1 = spark.sql(\"\"\" SELECT nconst, primaryName as actor, COUNT(tconst) as movies\n",
        "                                FROM data1\n",
        "                                GROUP BY nconst, primaryName\n",
        "                                ORDER BY movies desc\"\"\")\n",
        "actor_movies_d1.show(5) # the 5 most frequent actors -> movies are 6 mln and the most frequent appears in 5000 -> minSupport?\n",
        "#I should plot how they distribute vd Bodini"
      ],
      "execution_count": 15,
      "outputs": [
        {
          "output_type": "stream",
          "text": [
            "+----------+------------------+------+\n",
            "|    nconst|             actor|movies|\n",
            "+----------+------------------+------+\n",
            "|nm10120013|   Sameera Sherief|  5746|\n",
            "| nm0151534|    Sudha Chandran|  4400|\n",
            "| nm0192504|   Francisco Cuoco|  3987|\n",
            "| nm0555829|     Claudio Marzo|  3917|\n",
            "| nm0525123|Luz Stella Luengas|  3817|\n",
            "+----------+------------------+------+\n",
            "only showing top 5 rows\n",
            "\n"
          ],
          "name": "stdout"
        }
      ]
    },
    {
      "cell_type": "code",
      "metadata": {
        "colab": {
          "base_uri": "https://localhost:8080/",
          "height": 449
        },
        "id": "3Km5qO65Noi-",
        "outputId": "c5bb2d48-836a-4726-80bb-eb372ed6959b"
      },
      "source": [
        "sns.set(rc={\"figure.figsize\":(18,7)})\n",
        "ax = sns.histplot(data1.toPandas(), x = \"actor\", binwidth = 2, log_scale = (False, True))\n",
        "ax.set(title = \"Number of total purchased items per customer\", xlabel = \"Number of items\", ylabel = \"Number of customers\");\n",
        "ax.set_xticks(range(0,150,5));"
      ],
      "execution_count": 17,
      "outputs": [
        {
          "output_type": "error",
          "ename": "KeyboardInterrupt",
          "evalue": "ignored",
          "traceback": [
            "\u001b[0;31m---------------------------------------------------------------------------\u001b[0m",
            "\u001b[0;31mKeyboardInterrupt\u001b[0m                         Traceback (most recent call last)",
            "\u001b[0;32m<ipython-input-17-b14c8d19f392>\u001b[0m in \u001b[0;36m<module>\u001b[0;34m()\u001b[0m\n\u001b[1;32m      2\u001b[0m \u001b[0;32mimport\u001b[0m \u001b[0mmatplotlib\u001b[0m\u001b[0;34m.\u001b[0m\u001b[0mpyplot\u001b[0m \u001b[0;32mas\u001b[0m \u001b[0mplt\u001b[0m\u001b[0;34m\u001b[0m\u001b[0;34m\u001b[0m\u001b[0m\n\u001b[1;32m      3\u001b[0m \u001b[0msns\u001b[0m\u001b[0;34m.\u001b[0m\u001b[0mset\u001b[0m\u001b[0;34m(\u001b[0m\u001b[0mrc\u001b[0m\u001b[0;34m=\u001b[0m\u001b[0;34m{\u001b[0m\u001b[0;34m\"figure.figsize\"\u001b[0m\u001b[0;34m:\u001b[0m\u001b[0;34m(\u001b[0m\u001b[0;36m18\u001b[0m\u001b[0;34m,\u001b[0m\u001b[0;36m7\u001b[0m\u001b[0;34m)\u001b[0m\u001b[0;34m}\u001b[0m\u001b[0;34m)\u001b[0m\u001b[0;34m\u001b[0m\u001b[0;34m\u001b[0m\u001b[0m\n\u001b[0;32m----> 4\u001b[0;31m \u001b[0max\u001b[0m \u001b[0;34m=\u001b[0m \u001b[0msns\u001b[0m\u001b[0;34m.\u001b[0m\u001b[0mbarplot\u001b[0m\u001b[0;34m(\u001b[0m\u001b[0mx\u001b[0m \u001b[0;34m=\u001b[0m \u001b[0;34m\"actor\"\u001b[0m\u001b[0;34m,\u001b[0m \u001b[0my\u001b[0m \u001b[0;34m=\u001b[0m \u001b[0;34m\"movies\"\u001b[0m\u001b[0;34m,\u001b[0m \u001b[0mdata\u001b[0m \u001b[0;34m=\u001b[0m \u001b[0mactor_movies_d1\u001b[0m\u001b[0;34m.\u001b[0m\u001b[0mtoPandas\u001b[0m\u001b[0;34m(\u001b[0m\u001b[0;34m)\u001b[0m\u001b[0;34m)\u001b[0m\u001b[0;34m;\u001b[0m \u001b[0;31m# null values not shown!\u001b[0m\u001b[0;34m\u001b[0m\u001b[0;34m\u001b[0m\u001b[0m\n\u001b[0m\u001b[1;32m      5\u001b[0m \u001b[0max\u001b[0m\u001b[0;34m.\u001b[0m\u001b[0mset\u001b[0m\u001b[0;34m(\u001b[0m\u001b[0mtitle\u001b[0m \u001b[0;34m=\u001b[0m \u001b[0;34m\"Frequency of actors in movies\"\u001b[0m\u001b[0;34m,\u001b[0m \u001b[0mxlabel\u001b[0m \u001b[0;34m=\u001b[0m \u001b[0;34m\"Actors\"\u001b[0m\u001b[0;34m,\u001b[0m \u001b[0mylabel\u001b[0m \u001b[0;34m=\u001b[0m \u001b[0;34m\"Movies\"\u001b[0m\u001b[0;34m)\u001b[0m\u001b[0;34m;\u001b[0m\u001b[0;34m\u001b[0m\u001b[0;34m\u001b[0m\u001b[0m\n",
            "\u001b[0;32m/usr/local/lib/python3.7/dist-packages/seaborn/_decorators.py\u001b[0m in \u001b[0;36minner_f\u001b[0;34m(*args, **kwargs)\u001b[0m\n\u001b[1;32m     44\u001b[0m             )\n\u001b[1;32m     45\u001b[0m         \u001b[0mkwargs\u001b[0m\u001b[0;34m.\u001b[0m\u001b[0mupdate\u001b[0m\u001b[0;34m(\u001b[0m\u001b[0;34m{\u001b[0m\u001b[0mk\u001b[0m\u001b[0;34m:\u001b[0m \u001b[0marg\u001b[0m \u001b[0;32mfor\u001b[0m \u001b[0mk\u001b[0m\u001b[0;34m,\u001b[0m \u001b[0marg\u001b[0m \u001b[0;32min\u001b[0m \u001b[0mzip\u001b[0m\u001b[0;34m(\u001b[0m\u001b[0msig\u001b[0m\u001b[0;34m.\u001b[0m\u001b[0mparameters\u001b[0m\u001b[0;34m,\u001b[0m \u001b[0margs\u001b[0m\u001b[0;34m)\u001b[0m\u001b[0;34m}\u001b[0m\u001b[0;34m)\u001b[0m\u001b[0;34m\u001b[0m\u001b[0;34m\u001b[0m\u001b[0m\n\u001b[0;32m---> 46\u001b[0;31m         \u001b[0;32mreturn\u001b[0m \u001b[0mf\u001b[0m\u001b[0;34m(\u001b[0m\u001b[0;34m**\u001b[0m\u001b[0mkwargs\u001b[0m\u001b[0;34m)\u001b[0m\u001b[0;34m\u001b[0m\u001b[0;34m\u001b[0m\u001b[0m\n\u001b[0m\u001b[1;32m     47\u001b[0m     \u001b[0;32mreturn\u001b[0m \u001b[0minner_f\u001b[0m\u001b[0;34m\u001b[0m\u001b[0;34m\u001b[0m\u001b[0m\n\u001b[1;32m     48\u001b[0m \u001b[0;34m\u001b[0m\u001b[0m\n",
            "\u001b[0;32m/usr/local/lib/python3.7/dist-packages/seaborn/categorical.py\u001b[0m in \u001b[0;36mbarplot\u001b[0;34m(x, y, hue, data, order, hue_order, estimator, ci, n_boot, units, seed, orient, color, palette, saturation, errcolor, errwidth, capsize, dodge, ax, **kwargs)\u001b[0m\n\u001b[1;32m   3180\u001b[0m                           \u001b[0mestimator\u001b[0m\u001b[0;34m,\u001b[0m \u001b[0mci\u001b[0m\u001b[0;34m,\u001b[0m \u001b[0mn_boot\u001b[0m\u001b[0;34m,\u001b[0m \u001b[0munits\u001b[0m\u001b[0;34m,\u001b[0m \u001b[0mseed\u001b[0m\u001b[0;34m,\u001b[0m\u001b[0;34m\u001b[0m\u001b[0;34m\u001b[0m\u001b[0m\n\u001b[1;32m   3181\u001b[0m                           \u001b[0morient\u001b[0m\u001b[0;34m,\u001b[0m \u001b[0mcolor\u001b[0m\u001b[0;34m,\u001b[0m \u001b[0mpalette\u001b[0m\u001b[0;34m,\u001b[0m \u001b[0msaturation\u001b[0m\u001b[0;34m,\u001b[0m\u001b[0;34m\u001b[0m\u001b[0;34m\u001b[0m\u001b[0m\n\u001b[0;32m-> 3182\u001b[0;31m                           errcolor, errwidth, capsize, dodge)\n\u001b[0m\u001b[1;32m   3183\u001b[0m \u001b[0;34m\u001b[0m\u001b[0m\n\u001b[1;32m   3184\u001b[0m     \u001b[0;32mif\u001b[0m \u001b[0max\u001b[0m \u001b[0;32mis\u001b[0m \u001b[0;32mNone\u001b[0m\u001b[0;34m:\u001b[0m\u001b[0;34m\u001b[0m\u001b[0;34m\u001b[0m\u001b[0m\n",
            "\u001b[0;32m/usr/local/lib/python3.7/dist-packages/seaborn/categorical.py\u001b[0m in \u001b[0;36m__init__\u001b[0;34m(self, x, y, hue, data, order, hue_order, estimator, ci, n_boot, units, seed, orient, color, palette, saturation, errcolor, errwidth, capsize, dodge)\u001b[0m\n\u001b[1;32m   1583\u001b[0m         \u001b[0;34m\"\"\"Initialize the plotter.\"\"\"\u001b[0m\u001b[0;34m\u001b[0m\u001b[0;34m\u001b[0m\u001b[0m\n\u001b[1;32m   1584\u001b[0m         self.establish_variables(x, y, hue, data, orient,\n\u001b[0;32m-> 1585\u001b[0;31m                                  order, hue_order, units)\n\u001b[0m\u001b[1;32m   1586\u001b[0m         \u001b[0mself\u001b[0m\u001b[0;34m.\u001b[0m\u001b[0mestablish_colors\u001b[0m\u001b[0;34m(\u001b[0m\u001b[0mcolor\u001b[0m\u001b[0;34m,\u001b[0m \u001b[0mpalette\u001b[0m\u001b[0;34m,\u001b[0m \u001b[0msaturation\u001b[0m\u001b[0;34m)\u001b[0m\u001b[0;34m\u001b[0m\u001b[0;34m\u001b[0m\u001b[0m\n\u001b[1;32m   1587\u001b[0m         \u001b[0mself\u001b[0m\u001b[0;34m.\u001b[0m\u001b[0mestimate_statistic\u001b[0m\u001b[0;34m(\u001b[0m\u001b[0mestimator\u001b[0m\u001b[0;34m,\u001b[0m \u001b[0mci\u001b[0m\u001b[0;34m,\u001b[0m \u001b[0mn_boot\u001b[0m\u001b[0;34m,\u001b[0m \u001b[0mseed\u001b[0m\u001b[0;34m)\u001b[0m\u001b[0;34m\u001b[0m\u001b[0;34m\u001b[0m\u001b[0m\n",
            "\u001b[0;32m/usr/local/lib/python3.7/dist-packages/seaborn/categorical.py\u001b[0m in \u001b[0;36mestablish_variables\u001b[0;34m(self, x, y, hue, data, orient, order, hue_order, units)\u001b[0m\n\u001b[1;32m    205\u001b[0m                 \u001b[0;31m# Group the numeric data\u001b[0m\u001b[0;34m\u001b[0m\u001b[0;34m\u001b[0m\u001b[0;34m\u001b[0m\u001b[0m\n\u001b[1;32m    206\u001b[0m                 plot_data, value_label = self._group_longform(vals, groups,\n\u001b[0;32m--> 207\u001b[0;31m                                                               group_names)\n\u001b[0m\u001b[1;32m    208\u001b[0m \u001b[0;34m\u001b[0m\u001b[0m\n\u001b[1;32m    209\u001b[0m                 \u001b[0;31m# Now handle the hue levels for nested ordering\u001b[0m\u001b[0;34m\u001b[0m\u001b[0;34m\u001b[0m\u001b[0;34m\u001b[0m\u001b[0m\n",
            "\u001b[0;32m/usr/local/lib/python3.7/dist-packages/seaborn/categorical.py\u001b[0m in \u001b[0;36m_group_longform\u001b[0;34m(self, vals, grouper, order)\u001b[0m\n\u001b[1;32m    255\u001b[0m         \u001b[0;32mfor\u001b[0m \u001b[0mg\u001b[0m \u001b[0;32min\u001b[0m \u001b[0morder\u001b[0m\u001b[0;34m:\u001b[0m\u001b[0;34m\u001b[0m\u001b[0;34m\u001b[0m\u001b[0m\n\u001b[1;32m    256\u001b[0m             \u001b[0;32mtry\u001b[0m\u001b[0;34m:\u001b[0m\u001b[0;34m\u001b[0m\u001b[0;34m\u001b[0m\u001b[0m\n\u001b[0;32m--> 257\u001b[0;31m                 \u001b[0mg_vals\u001b[0m \u001b[0;34m=\u001b[0m \u001b[0mgrouped_vals\u001b[0m\u001b[0;34m.\u001b[0m\u001b[0mget_group\u001b[0m\u001b[0;34m(\u001b[0m\u001b[0mg\u001b[0m\u001b[0;34m)\u001b[0m\u001b[0;34m\u001b[0m\u001b[0;34m\u001b[0m\u001b[0m\n\u001b[0m\u001b[1;32m    258\u001b[0m             \u001b[0;32mexcept\u001b[0m \u001b[0mKeyError\u001b[0m\u001b[0;34m:\u001b[0m\u001b[0;34m\u001b[0m\u001b[0;34m\u001b[0m\u001b[0m\n\u001b[1;32m    259\u001b[0m                 \u001b[0mg_vals\u001b[0m \u001b[0;34m=\u001b[0m \u001b[0mnp\u001b[0m\u001b[0;34m.\u001b[0m\u001b[0marray\u001b[0m\u001b[0;34m(\u001b[0m\u001b[0;34m[\u001b[0m\u001b[0;34m]\u001b[0m\u001b[0;34m)\u001b[0m\u001b[0;34m\u001b[0m\u001b[0;34m\u001b[0m\u001b[0m\n",
            "\u001b[0;32m/usr/local/lib/python3.7/dist-packages/pandas/core/groupby/groupby.py\u001b[0m in \u001b[0;36mget_group\u001b[0;34m(self, name, obj)\u001b[0m\n\u001b[1;32m    806\u001b[0m             \u001b[0mobj\u001b[0m \u001b[0;34m=\u001b[0m \u001b[0mself\u001b[0m\u001b[0;34m.\u001b[0m\u001b[0m_selected_obj\u001b[0m\u001b[0;34m\u001b[0m\u001b[0;34m\u001b[0m\u001b[0m\n\u001b[1;32m    807\u001b[0m \u001b[0;34m\u001b[0m\u001b[0m\n\u001b[0;32m--> 808\u001b[0;31m         \u001b[0minds\u001b[0m \u001b[0;34m=\u001b[0m \u001b[0mself\u001b[0m\u001b[0;34m.\u001b[0m\u001b[0m_get_index\u001b[0m\u001b[0;34m(\u001b[0m\u001b[0mname\u001b[0m\u001b[0;34m)\u001b[0m\u001b[0;34m\u001b[0m\u001b[0;34m\u001b[0m\u001b[0m\n\u001b[0m\u001b[1;32m    809\u001b[0m         \u001b[0;32mif\u001b[0m \u001b[0;32mnot\u001b[0m \u001b[0mlen\u001b[0m\u001b[0;34m(\u001b[0m\u001b[0minds\u001b[0m\u001b[0;34m)\u001b[0m\u001b[0;34m:\u001b[0m\u001b[0;34m\u001b[0m\u001b[0;34m\u001b[0m\u001b[0m\n\u001b[1;32m    810\u001b[0m             \u001b[0;32mraise\u001b[0m \u001b[0mKeyError\u001b[0m\u001b[0;34m(\u001b[0m\u001b[0mname\u001b[0m\u001b[0;34m)\u001b[0m\u001b[0;34m\u001b[0m\u001b[0;34m\u001b[0m\u001b[0m\n",
            "\u001b[0;32m/usr/local/lib/python3.7/dist-packages/pandas/core/groupby/groupby.py\u001b[0m in \u001b[0;36m_get_index\u001b[0;34m(self, name)\u001b[0m\n\u001b[1;32m    628\u001b[0m         \u001b[0mSafe\u001b[0m \u001b[0mget\u001b[0m \u001b[0mindex\u001b[0m\u001b[0;34m,\u001b[0m \u001b[0mtranslate\u001b[0m \u001b[0mkeys\u001b[0m \u001b[0;32mfor\u001b[0m \u001b[0mdatelike\u001b[0m \u001b[0mto\u001b[0m \u001b[0munderlying\u001b[0m \u001b[0mrepr\u001b[0m\u001b[0;34m.\u001b[0m\u001b[0;34m\u001b[0m\u001b[0;34m\u001b[0m\u001b[0m\n\u001b[1;32m    629\u001b[0m         \"\"\"\n\u001b[0;32m--> 630\u001b[0;31m         \u001b[0;32mreturn\u001b[0m \u001b[0mself\u001b[0m\u001b[0;34m.\u001b[0m\u001b[0m_get_indices\u001b[0m\u001b[0;34m(\u001b[0m\u001b[0;34m[\u001b[0m\u001b[0mname\u001b[0m\u001b[0;34m]\u001b[0m\u001b[0;34m)\u001b[0m\u001b[0;34m[\u001b[0m\u001b[0;36m0\u001b[0m\u001b[0;34m]\u001b[0m\u001b[0;34m\u001b[0m\u001b[0;34m\u001b[0m\u001b[0m\n\u001b[0m\u001b[1;32m    631\u001b[0m \u001b[0;34m\u001b[0m\u001b[0m\n\u001b[1;32m    632\u001b[0m     \u001b[0;34m@\u001b[0m\u001b[0mcache_readonly\u001b[0m\u001b[0;34m\u001b[0m\u001b[0;34m\u001b[0m\u001b[0m\n",
            "\u001b[0;32m/usr/local/lib/python3.7/dist-packages/pandas/core/groupby/groupby.py\u001b[0m in \u001b[0;36m_get_indices\u001b[0;34m(self, names)\u001b[0m\n\u001b[1;32m    593\u001b[0m             \u001b[0;32mreturn\u001b[0m \u001b[0;34m[\u001b[0m\u001b[0;34m]\u001b[0m\u001b[0;34m\u001b[0m\u001b[0;34m\u001b[0m\u001b[0m\n\u001b[1;32m    594\u001b[0m \u001b[0;34m\u001b[0m\u001b[0m\n\u001b[0;32m--> 595\u001b[0;31m         \u001b[0;32mif\u001b[0m \u001b[0mlen\u001b[0m\u001b[0;34m(\u001b[0m\u001b[0mself\u001b[0m\u001b[0;34m.\u001b[0m\u001b[0mindices\u001b[0m\u001b[0;34m)\u001b[0m \u001b[0;34m>\u001b[0m \u001b[0;36m0\u001b[0m\u001b[0;34m:\u001b[0m\u001b[0;34m\u001b[0m\u001b[0;34m\u001b[0m\u001b[0m\n\u001b[0m\u001b[1;32m    596\u001b[0m             \u001b[0mindex_sample\u001b[0m \u001b[0;34m=\u001b[0m \u001b[0mnext\u001b[0m\u001b[0;34m(\u001b[0m\u001b[0miter\u001b[0m\u001b[0;34m(\u001b[0m\u001b[0mself\u001b[0m\u001b[0;34m.\u001b[0m\u001b[0mindices\u001b[0m\u001b[0;34m)\u001b[0m\u001b[0;34m)\u001b[0m\u001b[0;34m\u001b[0m\u001b[0;34m\u001b[0m\u001b[0m\n\u001b[1;32m    597\u001b[0m         \u001b[0;32melse\u001b[0m\u001b[0;34m:\u001b[0m\u001b[0;34m\u001b[0m\u001b[0;34m\u001b[0m\u001b[0m\n",
            "\u001b[0;32m/usr/local/lib/python3.7/dist-packages/pandas/core/groupby/groupby.py\u001b[0m in \u001b[0;36mindices\u001b[0;34m(self)\u001b[0m\n\u001b[1;32m    572\u001b[0m         \"\"\"\n\u001b[1;32m    573\u001b[0m         \u001b[0mself\u001b[0m\u001b[0;34m.\u001b[0m\u001b[0m_assure_grouper\u001b[0m\u001b[0;34m(\u001b[0m\u001b[0;34m)\u001b[0m\u001b[0;34m\u001b[0m\u001b[0;34m\u001b[0m\u001b[0m\n\u001b[0;32m--> 574\u001b[0;31m         \u001b[0;32mreturn\u001b[0m \u001b[0mself\u001b[0m\u001b[0;34m.\u001b[0m\u001b[0mgrouper\u001b[0m\u001b[0;34m.\u001b[0m\u001b[0mindices\u001b[0m\u001b[0;34m\u001b[0m\u001b[0;34m\u001b[0m\u001b[0m\n\u001b[0m\u001b[1;32m    575\u001b[0m \u001b[0;34m\u001b[0m\u001b[0m\n\u001b[1;32m    576\u001b[0m     \u001b[0;32mdef\u001b[0m \u001b[0m_get_indices\u001b[0m\u001b[0;34m(\u001b[0m\u001b[0mself\u001b[0m\u001b[0;34m,\u001b[0m \u001b[0mnames\u001b[0m\u001b[0;34m)\u001b[0m\u001b[0;34m:\u001b[0m\u001b[0;34m\u001b[0m\u001b[0;34m\u001b[0m\u001b[0m\n",
            "\u001b[0;32mpandas/_libs/properties.pyx\u001b[0m in \u001b[0;36mpandas._libs.properties.CachedProperty.__get__\u001b[0;34m()\u001b[0m\n",
            "\u001b[0;32m/usr/local/lib/python3.7/dist-packages/pandas/core/groupby/ops.py\u001b[0m in \u001b[0;36mindices\u001b[0;34m(self)\u001b[0m\n\u001b[1;32m    229\u001b[0m         \u001b[0;34m\"\"\" dict {group name -> group indices} \"\"\"\u001b[0m\u001b[0;34m\u001b[0m\u001b[0;34m\u001b[0m\u001b[0m\n\u001b[1;32m    230\u001b[0m         \u001b[0;32mif\u001b[0m \u001b[0mlen\u001b[0m\u001b[0;34m(\u001b[0m\u001b[0mself\u001b[0m\u001b[0;34m.\u001b[0m\u001b[0mgroupings\u001b[0m\u001b[0;34m)\u001b[0m \u001b[0;34m==\u001b[0m \u001b[0;36m1\u001b[0m\u001b[0;34m:\u001b[0m\u001b[0;34m\u001b[0m\u001b[0;34m\u001b[0m\u001b[0m\n\u001b[0;32m--> 231\u001b[0;31m             \u001b[0;32mreturn\u001b[0m \u001b[0mself\u001b[0m\u001b[0;34m.\u001b[0m\u001b[0mgroupings\u001b[0m\u001b[0;34m[\u001b[0m\u001b[0;36m0\u001b[0m\u001b[0;34m]\u001b[0m\u001b[0;34m.\u001b[0m\u001b[0mindices\u001b[0m\u001b[0;34m\u001b[0m\u001b[0;34m\u001b[0m\u001b[0m\n\u001b[0m\u001b[1;32m    232\u001b[0m         \u001b[0;32melse\u001b[0m\u001b[0;34m:\u001b[0m\u001b[0;34m\u001b[0m\u001b[0;34m\u001b[0m\u001b[0m\n\u001b[1;32m    233\u001b[0m             \u001b[0mcodes_list\u001b[0m \u001b[0;34m=\u001b[0m \u001b[0;34m[\u001b[0m\u001b[0mping\u001b[0m\u001b[0;34m.\u001b[0m\u001b[0mcodes\u001b[0m \u001b[0;32mfor\u001b[0m \u001b[0mping\u001b[0m \u001b[0;32min\u001b[0m \u001b[0mself\u001b[0m\u001b[0;34m.\u001b[0m\u001b[0mgroupings\u001b[0m\u001b[0;34m]\u001b[0m\u001b[0;34m\u001b[0m\u001b[0;34m\u001b[0m\u001b[0m\n",
            "\u001b[0;32mpandas/_libs/properties.pyx\u001b[0m in \u001b[0;36mpandas._libs.properties.CachedProperty.__get__\u001b[0;34m()\u001b[0m\n",
            "\u001b[0;32m/usr/local/lib/python3.7/dist-packages/pandas/core/groupby/grouper.py\u001b[0m in \u001b[0;36mindices\u001b[0;34m(self)\u001b[0m\n\u001b[1;32m    562\u001b[0m         return {\n\u001b[1;32m    563\u001b[0m             \u001b[0mcategory\u001b[0m\u001b[0;34m:\u001b[0m \u001b[0mnp\u001b[0m\u001b[0;34m.\u001b[0m\u001b[0mflatnonzero\u001b[0m\u001b[0;34m(\u001b[0m\u001b[0mcodes\u001b[0m \u001b[0;34m==\u001b[0m \u001b[0mi\u001b[0m\u001b[0;34m)\u001b[0m\u001b[0;34m\u001b[0m\u001b[0;34m\u001b[0m\u001b[0m\n\u001b[0;32m--> 564\u001b[0;31m             \u001b[0;32mfor\u001b[0m \u001b[0mi\u001b[0m\u001b[0;34m,\u001b[0m \u001b[0mcategory\u001b[0m \u001b[0;32min\u001b[0m \u001b[0menumerate\u001b[0m\u001b[0;34m(\u001b[0m\u001b[0mIndex\u001b[0m\u001b[0;34m(\u001b[0m\u001b[0muniques\u001b[0m\u001b[0;34m)\u001b[0m\u001b[0;34m)\u001b[0m\u001b[0;34m\u001b[0m\u001b[0;34m\u001b[0m\u001b[0m\n\u001b[0m\u001b[1;32m    565\u001b[0m         }\n\u001b[1;32m    566\u001b[0m \u001b[0;34m\u001b[0m\u001b[0m\n",
            "\u001b[0;32m/usr/local/lib/python3.7/dist-packages/pandas/core/groupby/grouper.py\u001b[0m in \u001b[0;36m<dictcomp>\u001b[0;34m(.0)\u001b[0m\n\u001b[1;32m    562\u001b[0m         return {\n\u001b[1;32m    563\u001b[0m             \u001b[0mcategory\u001b[0m\u001b[0;34m:\u001b[0m \u001b[0mnp\u001b[0m\u001b[0;34m.\u001b[0m\u001b[0mflatnonzero\u001b[0m\u001b[0;34m(\u001b[0m\u001b[0mcodes\u001b[0m \u001b[0;34m==\u001b[0m \u001b[0mi\u001b[0m\u001b[0;34m)\u001b[0m\u001b[0;34m\u001b[0m\u001b[0;34m\u001b[0m\u001b[0m\n\u001b[0;32m--> 564\u001b[0;31m             \u001b[0;32mfor\u001b[0m \u001b[0mi\u001b[0m\u001b[0;34m,\u001b[0m \u001b[0mcategory\u001b[0m \u001b[0;32min\u001b[0m \u001b[0menumerate\u001b[0m\u001b[0;34m(\u001b[0m\u001b[0mIndex\u001b[0m\u001b[0;34m(\u001b[0m\u001b[0muniques\u001b[0m\u001b[0;34m)\u001b[0m\u001b[0;34m)\u001b[0m\u001b[0;34m\u001b[0m\u001b[0;34m\u001b[0m\u001b[0m\n\u001b[0m\u001b[1;32m    565\u001b[0m         }\n\u001b[1;32m    566\u001b[0m \u001b[0;34m\u001b[0m\u001b[0m\n",
            "\u001b[0;31mKeyboardInterrupt\u001b[0m: "
          ]
        }
      ]
    },
    {
      "cell_type": "code",
      "metadata": {
        "id": "2kN06imQ0-Ch",
        "colab": {
          "base_uri": "https://localhost:8080/"
        },
        "outputId": "aa14642f-8f71-4f95-9060-7c267919b216"
      },
      "source": [
        "#NEW\n",
        "#generazione dei baskets\n",
        "from pyspark.sql.functions import collect_set\n",
        "\n",
        "moviesasbaskets_d1 = data1.groupBy('tconst','primaryTitle').agg(collect_set('primaryName').alias('cast')) #metti un alias\n",
        "moviesasbaskets_d1.createOrReplaceTempView('moviesasbaskets_d1')\n",
        "\n",
        "moviesasbaskets_d1.show(n=5)"
      ],
      "execution_count": null,
      "outputs": [
        {
          "output_type": "stream",
          "text": [
            "+---------+--------------------+--------------------+\n",
            "|   tconst|        primaryTitle|                cast|\n",
            "+---------+--------------------+--------------------+\n",
            "|tt0000007|Corbett and Court...|[James J. Corbett...|\n",
            "|tt0000378|          Les vagues|[Julie Souplet, G...|\n",
            "|tt0000621|   That Fatal Sneeze|[Gertie Potter, T...|\n",
            "|tt0000653|A Calamitous Elop...|[John R. Cumpson,...|\n",
            "|tt0000841|       The Day After|[Marion Leonard, ...|\n",
            "+---------+--------------------+--------------------+\n",
            "only showing top 5 rows\n",
            "\n"
          ],
          "name": "stdout"
        }
      ]
    },
    {
      "cell_type": "code",
      "metadata": {
        "id": "yNAQDtZV0-E6",
        "colab": {
          "base_uri": "https://localhost:8080/"
        },
        "outputId": "8b10e4b5-1f38-4f7c-c666-45c220dcfa59"
      },
      "source": [
        "moviesasbaskets_d1.count() #3602120"
      ],
      "execution_count": null,
      "outputs": [
        {
          "output_type": "execute_result",
          "data": {
            "text/plain": [
              "3602120"
            ]
          },
          "metadata": {
            "tags": []
          },
          "execution_count": 25
        }
      ]
    },
    {
      "cell_type": "code",
      "metadata": {
        "id": "e-7WRXo40-Hm",
        "colab": {
          "base_uri": "https://localhost:8080/"
        },
        "outputId": "9c25e0ab-b06b-4461-fc02-e7e02a4ad213"
      },
      "source": [
        "#concatenate using hyphen\n",
        "# to have info about the title but still maintaining the basket form (so just one col for the basket and the corresponding\n",
        "# list of itemsets)\n",
        "from pyspark.sql import functions as f\n",
        "\n",
        "moviesasbaskets_d1 = moviesasbaskets_d1.withColumn('movie', f.concat(f.col('tconst'),f.lit('-'),f.col('primaryTitle')))\n",
        "\n",
        "moviesasbaskets_d1 = moviesasbaskets_d1.select('movie', 'cast')\n",
        "moviesasbaskets_d1.show(5)"
      ],
      "execution_count": null,
      "outputs": [
        {
          "output_type": "stream",
          "text": [
            "+--------------------+--------------------+\n",
            "|               movie|                cast|\n",
            "+--------------------+--------------------+\n",
            "|tt0000007-Corbett...|[James J. Corbett...|\n",
            "|tt0000378-Les vagues|[Julie Souplet, G...|\n",
            "|tt0000621-That Fa...|[Gertie Potter, T...|\n",
            "|tt0000653-A Calam...|[John R. Cumpson,...|\n",
            "|tt0000841-The Day...|[Marion Leonard, ...|\n",
            "+--------------------+--------------------+\n",
            "only showing top 5 rows\n",
            "\n"
          ],
          "name": "stdout"
        }
      ]
    },
    {
      "cell_type": "code",
      "metadata": {
        "id": "sfJDIDdi0-KA"
      },
      "source": [
        "# Caching aka persisting-> otherwise randomsplit will lead to inconsistencies, since it changes the randomsplit each\n",
        "# time you perform an operation on the splitted data\n",
        "moviesasbaskets_d1 = moviesasbaskets_d1.persist(pyspark.StorageLevel.MEMORY_AND_DISK)"
      ],
      "execution_count": null,
      "outputs": []
    },
    {
      "cell_type": "code",
      "metadata": {
        "id": "NoDkR2gr0-M-"
      },
      "source": [
        "# apply the randomSplit() \n",
        "MBAtrain,MBAtest = moviesasbaskets_d1.randomSplit([0.9, 0.1], seed=13)"
      ],
      "execution_count": null,
      "outputs": []
    },
    {
      "cell_type": "code",
      "metadata": {
        "id": "Ib0j46Yp20SP"
      },
      "source": [
        "from pyspark.ml.fpm import FPGrowth\n",
        "fpGrowth = FPGrowth(itemsCol=\"cast\", minSupport=0.0001, minConfidence=0)\n",
        "model_d1 = fpGrowth.fit(MBAtrain) #7 minutes"
      ],
      "execution_count": null,
      "outputs": []
    },
    {
      "cell_type": "code",
      "metadata": {
        "id": "LzOSbEjO20Ur",
        "colab": {
          "base_uri": "https://localhost:8080/"
        },
        "outputId": "38978321-144a-4dd1-aeaf-925a9ac470d2"
      },
      "source": [
        "# Display frequent itemsets.-> NB this result includes all size items!\n",
        "from pyspark.sql.functions import col, asc,desc\n",
        "freqItemsets_d1 = model_d1.freqItemsets\n",
        "freqItemsets_d1.createOrReplaceTempView(\"freqItemsets_d1\")\n",
        "freqItemsets_d1.orderBy(col('freq').desc()).show() #the most frequent actor is nm10120013 appearing in > 5000 films."
      ],
      "execution_count": null,
      "outputs": [
        {
          "output_type": "stream",
          "text": [
            "+--------------------+----+\n",
            "|               items|freq|\n",
            "+--------------------+----+\n",
            "|   [Sameera Sherief]|5199|\n",
            "|    [Sudha Chandran]|4004|\n",
            "|   [Francisco Cuoco]|3572|\n",
            "|     [Claudio Marzo]|3515|\n",
            "|[Luz Stella Luengas]|3456|\n",
            "|        [Tony Ramos]|3384|\n",
            "|[Luis Eduardo Motoa]|3359|\n",
            "|   [Macdonald Carey]|3336|\n",
            "|       [John Clarke]|3271|\n",
            "|[Luis Eduardo Mot...|3222|\n",
            "|     [Regina Duarte]|3214|\n",
            "|        [Jim Hunter]|3170|\n",
            "|       [Ray Meagher]|3135|\n",
            "| [Rohini Hattangadi]|3067|\n",
            "|[Caroline de Bruijn]|2979|\n",
            "|    [Tarcísio Meira]|2965|\n",
            "|        [Ravi Kiran]|2947|\n",
            "|           [Mounica]|2947|\n",
            "|[Mounica, Sameera...|2946|\n",
            "|[Ravi Kiran, Moun...|2946|\n",
            "+--------------------+----+\n",
            "only showing top 20 rows\n",
            "\n"
          ],
          "name": "stdout"
        }
      ]
    },
    {
      "cell_type": "code",
      "metadata": {
        "id": "XVTbrxgj20Zk",
        "colab": {
          "base_uri": "https://localhost:8080/"
        },
        "outputId": "02b60632-240e-4eca-deda-d670170d22ba"
      },
      "source": [
        "# Display generated association rules.\n",
        "associationRules_d1 = model_d1.associationRules\n",
        "associationRules_d1.createOrReplaceTempView(\"associationRules_d1\")\n",
        "associationRules_d1.show(n=5)"
      ],
      "execution_count": null,
      "outputs": [
        {
          "output_type": "stream",
          "text": [
            "+--------------------+-------------------+------------------+-----------------+--------------------+\n",
            "|          antecedent|         consequent|        confidence|             lift|             support|\n",
            "+--------------------+-------------------+------------------+-----------------+--------------------+\n",
            "|[Rohini Banerjee,...|     [Shruti Bapna]|               1.0|6306.780155642024|1.178399505195600...|\n",
            "|[Rohini Banerjee,...|[Aishwarya Sakhuja]|               1.0|5830.368705035971|1.178399505195600...|\n",
            "|[Rohini Banerjee,...| [Darshan Jariwala]|0.9293193717277487|7531.401668848167|1.095109487812665...|\n",
            "|[Rohini Banerjee,...|     [Shraman Jain]|0.9790575916230366|7229.604348292764|1.153720981526582...|\n",
            "|[Rohini Banerjee,...|       [Ravi Dubey]|               1.0|2390.623156342183|1.178399505195600...|\n",
            "+--------------------+-------------------+------------------+-----------------+--------------------+\n",
            "only showing top 5 rows\n",
            "\n"
          ],
          "name": "stdout"
        }
      ]
    },
    {
      "cell_type": "code",
      "metadata": {
        "id": "y6LmByaY20dC",
        "colab": {
          "base_uri": "https://localhost:8080/"
        },
        "outputId": "40e7ac42-39b8-4ee5-8b6c-3f13217304aa"
      },
      "source": [
        "spark.sql(\"\"\"select count (*)\n",
        "           from associationRules_d1\n",
        "           where confidence = '1.0' \"\"\").show() # I obtained 8969 association rules where confidence is 1\n",
        "           #should I rise the minSupport?"
      ],
      "execution_count": null,
      "outputs": [
        {
          "output_type": "stream",
          "text": [
            "+--------+\n",
            "|count(1)|\n",
            "+--------+\n",
            "|    8547|\n",
            "+--------+\n",
            "\n"
          ],
          "name": "stdout"
        }
      ]
    },
    {
      "cell_type": "code",
      "metadata": {
        "id": "cPBlFOxd0-PL",
        "colab": {
          "base_uri": "https://localhost:8080/"
        },
        "outputId": "d1a84a9d-450f-4481-d5e2-c6467dc6a66c"
      },
      "source": [
        "# transform examines the input items against all the association rules and summarize the consequents as prediction\n",
        "# it would be useful to divide the db in training and test set in order to actually do predictions\n",
        "associations_d1 = model_d1.transform(MBAtest)\n",
        "associations_d1.show()"
      ],
      "execution_count": null,
      "outputs": [
        {
          "output_type": "stream",
          "text": [
            "+--------------------+--------------------+----------+\n",
            "|               movie|                cast|prediction|\n",
            "+--------------------+--------------------+----------+\n",
            "|tt0000378-Les vagues|[Julie Souplet, G...|        []|\n",
            "|   tt0006235-The Vow|    [Marion Leonard]|        []|\n",
            "|tt0006399-The Ban...|[Francis Ford, Jo...|        []|\n",
            "|tt0006538-The Com...|[Harold Lockwood,...|        []|\n",
            "|tt0007213-The Pri...|[Frank Whitson, D...|        []|\n",
            "|tt0017047-The Win...|[Ivan Klyukvin, V...|        []|\n",
            "|tt0017055-The Lad...|[Roy Stewart, Ral...|        []|\n",
            "|tt0018691-Beware ...|[William Collier ...|        []|\n",
            "|tt0020073-The Lad...|[Mona Goya, Bruce...|        []|\n",
            "|tt0027147-Two for...|[Mary Boland, Bin...|        []|\n",
            "|tt0028509-Windbag...|[Norma Varden, Gr...|        []|\n",
            "|tt0029282-My Arti...|[Mae Questel, Jac...|        []|\n",
            "|tt0030958-The Nov...|[Jean Galland, Je...|        []|\n",
            "| tt0034335-Under Age|[Mary Anderson, T...|        []|\n",
            "|tt0035213-Le prin...|[Jimmy Gaillard, ...|        []|\n",
            "|tt0035788-Death V...|[Bob Steele, Ken ...|        []|\n",
            "|tt0036812-Die fal...|[Josef Eichheim, ...|        []|\n",
            "|tt0037447-Waterlo...|[Joy Shelton, Joh...|        []|\n",
            "|tt0045189-Steel Town|[John Lund, Howar...|        []|\n",
            "|tt0048220-Jack an...|     [Deryck Guyler]|        []|\n",
            "+--------------------+--------------------+----------+\n",
            "only showing top 20 rows\n",
            "\n"
          ],
          "name": "stdout"
        }
      ]
    },
    {
      "cell_type": "code",
      "metadata": {
        "id": "4OvtrFiq3FIu",
        "colab": {
          "base_uri": "https://localhost:8080/"
        },
        "outputId": "0d4172f9-1688-4780-e26b-9a3518afb4b0"
      },
      "source": [
        "associations_d1.createOrReplaceTempView('associations_d1')\n",
        "pred1= spark.sql(\"\"\"select *\n",
        "                      from associations_d1\n",
        "                      where size(prediction) >= 1 \"\"\")\n",
        "pred1.createOrReplaceTempView('pred1')\n",
        "pred1.show()"
      ],
      "execution_count": null,
      "outputs": [
        {
          "output_type": "stream",
          "text": [
            "+--------------------+--------------------+--------------------+\n",
            "|               movie|                cast|          prediction|\n",
            "+--------------------+--------------------+--------------------+\n",
            "|tt0048313-The Loo...|[Thomas Gomez, Ju...|[Carolyn Jones, D...|\n",
            "|tt0081337-A Piece...|[Jack Kirwan, Cha...|[Georgie Parker, ...|\n",
            "|tt0148079-Doing W...|[Gwen Davies, Jac...|       [Mae Questel]|\n",
            "| tt0212701-Triángulo|[Julieta Egurrola...|[Verónica Merchan...|\n",
            "|tt0219102-SS Papa...|[Kostas Kazakos, ...|  [Katia Dandoulaki]|\n",
            "|tt0227881-Forbidd...|[Arturo Bonín, Lu...|[Gastón Pauls, Be...|\n",
            "|tt0340824-Lucien ...|[Oswald Maes, Jan...|[Chris Boni, Myri...|\n",
            "|tt0377271-La torm...|[Jorge Mondragón,...|[Claudia Islas, J...|\n",
            "|tt0391939-Dos gal...|[Armando Infante,...|[Andrea Bonelli, ...|\n",
            "|tt0407521-Devilma...|[Atsuko Enomoto, ...|[Wasabi Mizuta, M...|\n",
            "|tt0472911-Strong-...|[Carlos Morales, ...|[Angelene Aguilar...|\n",
            "|tt0518111-A Sombr...|[Vítor Norte, Els...|[Rogério Samora, ...|\n",
            "|tt0528988-Episode...|[Susan Flannery, ...|[Adrienne Frantz,...|\n",
            "|tt0549603-Words U...|[Lorrae Desmond, ...|[Ray Meagher, Emi...|\n",
            "|tt0601512-A Dream...|[Richard Farnswor...|[Lorne Greene, Da...|\n",
            "| tt0652489-La prueba|[Luz María Aguila...|[Angelique Boyer,...|\n",
            "|tt0671084-Episode...|[Rylee Fansler, A...|[Emily Harper, Br...|\n",
            "|tt0678580-Episode...|[Betty Bobbitt, B...|[Dorothy Bradley,...|\n",
            "|tt0734687-Uncle S...|[Ian Wolfe, John ...|[Stephen Schnetze...|\n",
            "|tt0780134-Heavywe...|[Michael A. Grimm...|[Ursula Erber, Br...|\n",
            "+--------------------+--------------------+--------------------+\n",
            "only showing top 20 rows\n",
            "\n"
          ],
          "name": "stdout"
        }
      ]
    },
    {
      "cell_type": "code",
      "metadata": {
        "id": "ex1NwqD03FLp",
        "colab": {
          "base_uri": "https://localhost:8080/"
        },
        "outputId": "529e289b-cc02-401f-99e1-a9bc6605ccf7"
      },
      "source": [
        "pred1.count() ##55128 -> ora 55502 perchè?"
      ],
      "execution_count": null,
      "outputs": [
        {
          "output_type": "execute_result",
          "data": {
            "text/plain": [
              "55502"
            ]
          },
          "metadata": {
            "tags": []
          },
          "execution_count": 27
        }
      ]
    },
    {
      "cell_type": "code",
      "metadata": {
        "id": "ubI2AdSs3FOV",
        "colab": {
          "base_uri": "https://localhost:8080/"
        },
        "outputId": "826acd42-aeaa-4c1a-e94a-e85a96e9151e"
      },
      "source": [
        "#for a better understanding \n",
        "spark.sql(\"\"\"select antecedent as `antecedent (if)`, consequent as `consequent (then)`, confidence\n",
        "              from associationRulesd1\n",
        "              order by confidence desc\n",
        "              limit 20\"\"\").show()"
      ],
      "execution_count": null,
      "outputs": [
        {
          "output_type": "stream",
          "text": [
            "+--------------------+-------------------+----------+\n",
            "|     antecedent (if)|  consequent (then)|confidence|\n",
            "+--------------------+-------------------+----------+\n",
            "|[Susanne Stuart, ...|  [Michael Beecher]|       1.0|\n",
            "|[Abel Abelyan, S....| [Samvel Sarkisyan]|       1.0|\n",
            "|[Fernando Farrés,...|   [Adolfo Chuiman]|       1.0|\n",
            "|[Rohini Banerjee,...|[Aishwarya Sakhuja]|       1.0|\n",
            "|[Fernando Farrés,...|   [Michel Finseth]|       1.0|\n",
            "|[Susanne Stuart, ...|    [Judy McBurney]|       1.0|\n",
            "|[Rohini Banerjee,...|     [Shruti Bapna]|       1.0|\n",
            "|[Alejandra Azcára...|      [Kathy Sáenz]|       1.0|\n",
            "|[David Mardyan, G...|   [Lika Salmanyan]|       1.0|\n",
            "|[Rohini Banerjee,...|       [Ravi Dubey]|       1.0|\n",
            "|[David Mardyan, H...|  [Aida Babajanyan]|       1.0|\n",
            "|[Alfonso Burgos, ...| [Ezequiel Castaño]|       1.0|\n",
            "|[David Mardyan, H...| [Luiza Ghambaryan]|       1.0|\n",
            "|[Alfonso Burgos, ...| [Camila Bordonaba]|       1.0|\n",
            "|[David Mardyan, H...|   [Lika Salmanyan]|       1.0|\n",
            "|[David Mardyan, G...|   [Arsen Levonyan]|       1.0|\n",
            "|[Suhasini Mulay, ...|        [Alok Nath]|       1.0|\n",
            "|[David Mardyan, G...|    [Hayk Chomoyan]|       1.0|\n",
            "|[Susanne Stuart, ...|       [Gwen Plumb]|       1.0|\n",
            "|[David Mardyan, G...|  [Albert Safaryan]|       1.0|\n",
            "+--------------------+-------------------+----------+\n",
            "\n"
          ],
          "name": "stdout"
        }
      ]
    },
    {
      "cell_type": "code",
      "metadata": {
        "id": "0XaUYKWp3FQu",
        "colab": {
          "base_uri": "https://localhost:8080/"
        },
        "outputId": "729fdfce-36a9-464d-9dfc-851b05131759"
      },
      "source": [
        "#focus the analysis for frequent itemset with one actor only (frequent actors)\n",
        "#NOW filter freqItemsets by those having items = 1 -> most frequent actors banally\n",
        "mostfrequentactor_d1= spark.sql(\"\"\"select items, freq\n",
        "                                    from freqItemsets_d1\n",
        "                                    where size(items) = 1\n",
        "                                    order by freq desc\"\"\")\n",
        "mostfrequentactor_d1.show(n=5)\n",
        "mostfrequentactor_d1.count()"
      ],
      "execution_count": null,
      "outputs": [
        {
          "output_type": "stream",
          "text": [
            "+--------------------+----+\n",
            "|               items|freq|\n",
            "+--------------------+----+\n",
            "|   [Sameera Sherief]|5199|\n",
            "|    [Sudha Chandran]|4004|\n",
            "|   [Francisco Cuoco]|3572|\n",
            "|     [Claudio Marzo]|3515|\n",
            "|[Luz Stella Luengas]|3456|\n",
            "+--------------------+----+\n",
            "only showing top 5 rows\n",
            "\n"
          ],
          "name": "stdout"
        },
        {
          "output_type": "execute_result",
          "data": {
            "text/plain": [
              "4684"
            ]
          },
          "metadata": {
            "tags": []
          },
          "execution_count": 33
        }
      ]
    },
    {
      "cell_type": "code",
      "metadata": {
        "id": "1G5kInGV3FUT",
        "colab": {
          "base_uri": "https://localhost:8080/"
        },
        "outputId": "e0a60efd-a4f0-46ec-b2bd-3e8d9593bb76"
      },
      "source": [
        "#now analysis for frequent itemset with two actors\n",
        "mostfrequent2actors_d1= spark.sql(\"\"\"select items, freq\n",
        "                                      from freqItemsets_d1\n",
        "                                      where size(items) = 2\n",
        "                                      order by freq desc\"\"\")\n",
        "mostfrequent2actors_d1.show(n=5)\n",
        "mostfrequent2actors_d1.count()"
      ],
      "execution_count": null,
      "outputs": [
        {
          "output_type": "stream",
          "text": [
            "+--------------------+----+\n",
            "|               items|freq|\n",
            "+--------------------+----+\n",
            "|[Luis Eduardo Mot...|3222|\n",
            "|[Ravi Kiran, Moun...|2946|\n",
            "|[Mounica, Sameera...|2946|\n",
            "|[Ravi Kiran, Same...|2946|\n",
            "|[Kavita Lad, Rohi...|2887|\n",
            "+--------------------+----+\n",
            "only showing top 5 rows\n",
            "\n"
          ],
          "name": "stdout"
        },
        {
          "output_type": "execute_result",
          "data": {
            "text/plain": [
              "2658"
            ]
          },
          "metadata": {
            "tags": []
          },
          "execution_count": 34
        }
      ]
    },
    {
      "cell_type": "code",
      "metadata": {
        "id": "_1jhzn3W3F2N",
        "colab": {
          "base_uri": "https://localhost:8080/"
        },
        "outputId": "8393c360-38dc-407f-c12d-a2b56c171125"
      },
      "source": [
        "#now analysis for frequent itemset with three actors\n",
        "mostfrequent3actors_d1= spark.sql(\"\"\"select items, freq\n",
        "                                      from freqItemsets_d1\n",
        "                                      where size(items) = 3\n",
        "                                      order by freq desc\"\"\")\n",
        "mostfrequent3actors_d1.show(n=5)\n",
        "mostfrequent3actors_d1.count()"
      ],
      "execution_count": null,
      "outputs": [
        {
          "output_type": "stream",
          "text": [
            "+--------------------+----+\n",
            "|               items|freq|\n",
            "+--------------------+----+\n",
            "|[Ravi Kiran, Moun...|2946|\n",
            "|[Frances Reid, Jo...|2293|\n",
            "|[Hari Teja, Subha...|2243|\n",
            "|[Bhavya Gandhi, D...|2215|\n",
            "|[Ana Velázquez, S...|2125|\n",
            "+--------------------+----+\n",
            "only showing top 5 rows\n",
            "\n"
          ],
          "name": "stdout"
        },
        {
          "output_type": "execute_result",
          "data": {
            "text/plain": [
              "1713"
            ]
          },
          "metadata": {
            "tags": []
          },
          "execution_count": 35
        }
      ]
    },
    {
      "cell_type": "code",
      "metadata": {
        "id": "9V_OHko33F4r"
      },
      "source": [
        "#Trying the same model but with a minsupport of 0.001 instead of 0.0001-> frequent itemsets are still generated since 0.001 of 3mln is 3000 and therefore there are actors playing in 3000 movies\n",
        "#but in this way only 9 are considered frequent and no association rule and no predictions are generated\n",
        "#we have to find a middle way\n",
        "\n",
        "#with 0.0005 seems best option since it reduces association rules and predictions (1600 not null predictions) but it produces some"
      ],
      "execution_count": null,
      "outputs": []
    },
    {
      "cell_type": "code",
      "metadata": {
        "id": "9C5sRLcz3F70",
        "colab": {
          "base_uri": "https://localhost:8080/"
        },
        "outputId": "657734db-5e75-4947-d79b-735a33cb895a"
      },
      "source": [
        "#try if the association rules are correct: \n",
        "spark.sql(\"\"\"select (*)\n",
        "           from associationRules_d1\n",
        "           where confidence = '1.0' \n",
        "           limit 20\"\"\").show()\n",
        "#for example we obtain in this table\n",
        "#|       [Jui Gadkari]|        [Astad Kale]|       1.0|1847.1139601139603|5.389172606221764E-4|\n",
        "#|    [Gagan Chinappa]|       [Kavya Shree]|       1.0|1849.2213348545351|5.407681498973527E-4|\n",
        "#|        [Neha Gowda]|           [Rachana]|       1.0|1989.9846531614487|5.009740304810615E-4|\n",
        "#|        [Neha Gowda]|   [Branden Garrett]|       1.0|1983.8953488372092|5.009740304810615E-4|\n",
        "#then we could select movies where [Jui Gadkari] played and check if in the cast there is also [Astad Kale]"
      ],
      "execution_count": null,
      "outputs": [
        {
          "output_type": "stream",
          "text": [
            "+--------------------+--------------------+----------+------------------+--------------------+\n",
            "|          antecedent|          consequent|confidence|              lift|             support|\n",
            "+--------------------+--------------------+----------+------------------+--------------------+\n",
            "|[Rohini Banerjee,...|      [Shruti Bapna]|       1.0| 6306.780155642024|1.178399505195600...|\n",
            "|[Rohini Banerjee,...| [Aishwarya Sakhuja]|       1.0| 5830.368705035971|1.178399505195600...|\n",
            "|[Rohini Banerjee,...|        [Ravi Dubey]|       1.0| 2390.623156342183|1.178399505195600...|\n",
            "|[Alejandra Azcára...|       [Kathy Sáenz]|       1.0|3692.1241457858773|1.385082140923624...|\n",
            "|[David Mardyan, H...|    [Arsen Levonyan]|       1.0| 7171.869469026548|1.391251771840879E-4|\n",
            "|[David Mardyan, H...|   [Aida Babajanyan]|       1.0| 4838.335820895522|1.391251771840879E-4|\n",
            "|[David Mardyan, H...|[Artashes Aleksan...|       1.0| 7031.854663774403|1.391251771840879E-4|\n",
            "|[David Mardyan, H...|  [Luiza Ghambaryan]|       1.0| 7171.869469026548|1.391251771840879E-4|\n",
            "|[David Mardyan, H...|      [Guj Manukyan]|       1.0|7187.7716186252765|1.391251771840879E-4|\n",
            "|[David Mardyan, H...|    [Lika Salmanyan]|       1.0|7187.7716186252765|1.391251771840879E-4|\n",
            "|[Roopal Tyagi, Ma...|        [Ankit Gera]|       1.0| 3032.446211412535|1.946518554393779...|\n",
            "|[Suhasini Mulay, ...|         [Alok Nath]|       1.0|1363.7715607909129|2.159370821039058...|\n",
            "|[Ricardo Aibéo, F...|[Paula Lobo Antunes]|       1.0|2162.5650433622413|1.005649839512475...|\n",
            "|[Susanne Stuart, ...|        [Gwen Plumb]|       1.0| 2605.856109324759|1.070430964143647...|\n",
            "|[Susanne Stuart, ...|     [Judy McBurney]|       1.0| 3271.125126135217|1.070430964143647...|\n",
            "|[Susanne Stuart, ...|   [Michael Beecher]|       1.0|3369.7349272349275|1.070430964143647...|\n",
            "|[Fernando Farrés,...|    [Adolfo Chuiman]|       1.0| 6670.133744855966|1.391251771840879E-4|\n",
            "|[Fernando Farrés,...|    [Michel Finseth]|       1.0|7187.7716186252765|1.391251771840879E-4|\n",
            "|[Alfonso Burgos, ...|  [Ezequiel Castaño]|       1.0| 4941.592987804878|1.162975427902464...|\n",
            "|[Alfonso Burgos, ...|  [Camila Bordonaba]|       1.0| 2668.053497942387|1.162975427902464...|\n",
            "+--------------------+--------------------+----------+------------------+--------------------+\n",
            "\n"
          ],
          "name": "stdout"
        }
      ]
    },
    {
      "cell_type": "code",
      "metadata": {
        "id": "13WHGNDo3nBn"
      },
      "source": [
        "#NB episodes are included in this dataset and this is biasing the results as can be seen from the queries below: the most frequent itemsets and the \n",
        "# generated association rules are related not to movies but episodes -> it is very likely that the actors appearing in an episode will be playing\n",
        "# also in the other episodes of the same TVseries\n",
        "\n",
        "q1= ('''SELECT * \n",
        "        FROM data1\n",
        "        WHERE primaryName = 'Jui Gadkari' ''')\n",
        "spark.sql(q1).show()\n",
        "#then take a random tconst and check if in the cast there is Astad Kale\n",
        "\n",
        "#or also do this query to see in which films they appear to be together -> they are all episodes! \n",
        "#so the model is actually biased by the presence of all these episodes in which the actors always appear together\n",
        "\n",
        "q2=('''SELECT *\n",
        "        FROM data1 as d1 INNER JOIN data1 as d2 ON d1.tconst = d2.tconst\n",
        "        WHERE d1.primaryName = 'Jui Gadkari' AND d2.primaryName = 'Astad Kale' ''')\n",
        "spark.sql(q2).show()\n",
        "\n",
        "#let's try with the second couple performing the same query as above\n",
        "q3=('''SELECT *\n",
        "        FROM data1 as d1 INNER JOIN explicit as d2 ON d1.tconst = d2.tconst\n",
        "        WHERE d1.primaryName = 'Gagan Chinappa' AND d2.primaryName = 'Kavya Shree' ''')\n",
        "spark.sql(q3).show()\n",
        "#same situation: they act together in each episode -> quite normal\n",
        "\n",
        "q4=('''SELECT *\n",
        "        FROM data1 as d1 INNER JOIN data1 as d2 ON d1.tconst = d2.tconst\n",
        "        WHERE d1.primaryName = 'Neha Gowda' AND d2.primaryName = 'Rachana' ''')\n",
        "spark.sql(q4).show()\n",
        "\n",
        "#so I will reperform the process by filtering the explicit dataset and considering only movies and cortos, not TV series"
      ],
      "execution_count": null,
      "outputs": []
    },
    {
      "cell_type": "code",
      "metadata": {
        "id": "zsnzvA3J3nEX"
      },
      "source": [
        "#which are the types of items collected in the titlebasics db?\n",
        "spark.sql('''SELECT distinct (titleType)\n",
        "              FROM titlebasics''').show()"
      ],
      "execution_count": null,
      "outputs": []
    },
    {
      "cell_type": "code",
      "metadata": {
        "id": "pTfjNjQJ3nG5",
        "colab": {
          "base_uri": "https://localhost:8080/"
        },
        "outputId": "1c22c806-3f95-41d5-8d2d-057924a11e02"
      },
      "source": [
        "data2 = spark.sql('''SELECT tb.tconst, tb.primaryTitle, nb.primaryName, nb.nconst \n",
        "                          FROM titlebasics as tb LEFT JOIN principals as p ON tb.tconst = p.tconst INNER JOIN namesbasics as nb ON p.nconst = nb.nconst\n",
        "                          WHERE ((p.category = 'actor' OR p.category = 'actress') AND (tb.titleType = 'movie' OR tb.titleType = 'tvMovie' OR tb.titleType = 'short' OR tb.titleType = 'tvShort')) ''')\n",
        "\n",
        "data2.createOrReplaceTempView('data2')\n",
        "data2.show(5)\n",
        "data2.count() #3686467-> this also reduces a lot the size of the db (from 14 mln to 3 mln)"
      ],
      "execution_count": 18,
      "outputs": [
        {
          "output_type": "stream",
          "text": [
            "+---------+-----------------+--------------+---------+\n",
            "|   tconst|     primaryTitle|   primaryName|   nconst|\n",
            "+---------+-----------------+--------------+---------+\n",
            "|tt0083109| The Cabbage Soup|Louis de Funès|nm0000086|\n",
            "|tt0062120|The Little Bather|Louis de Funès|nm0000086|\n",
            "|tt0057422|    Squeak-squeak|Louis de Funès|nm0000086|\n",
            "|tt0043691|     The Gamblers|Louis de Funès|nm0000086|\n",
            "|tt0335439| Station mondaine|Louis de Funès|nm0000086|\n",
            "+---------+-----------------+--------------+---------+\n",
            "only showing top 5 rows\n",
            "\n"
          ],
          "name": "stdout"
        },
        {
          "output_type": "execute_result",
          "data": {
            "text/plain": [
              "3686467"
            ]
          },
          "metadata": {
            "tags": []
          },
          "execution_count": 18
        }
      ]
    },
    {
      "cell_type": "code",
      "metadata": {
        "id": "KuPEivv43nJp"
      },
      "source": [
        "queryx= ('''select count(distinct tconst) \n",
        "            from data2''')\n",
        "spark.sql(queryx).show() # 974512 -> we have actually 1/3 of the values we had before!"
      ],
      "execution_count": null,
      "outputs": []
    },
    {
      "cell_type": "code",
      "metadata": {
        "id": "T1n3layZ3nMz"
      },
      "source": [
        "#lets see if we can group by primarytitle (if the distinct titles are equivalent to n of tconst)\n",
        "queryx2= ('''select count(distinct primaryTitle) \n",
        "            from data2''')\n",
        "spark.sql(queryx2).show() #756111 -> situation hasn't changed: still there are homonyms in movies and shorts"
      ],
      "execution_count": null,
      "outputs": []
    },
    {
      "cell_type": "code",
      "metadata": {
        "id": "34KWtexw3F-s",
        "colab": {
          "base_uri": "https://localhost:8080/"
        },
        "outputId": "13a32258-0386-437a-a026-ee7d78f389df"
      },
      "source": [
        "#generazione dei baskets\n",
        "from pyspark.sql.functions import collect_set\n",
        "\n",
        "moviesasbaskets_d2 = data2.groupBy('tconst','primaryTitle').agg(collect_set('primaryName').alias('cast')) #metti un alias\n",
        "moviesasbaskets_d2.createOrReplaceTempView('moviesasbaskets_d2')\n",
        "\n",
        "moviesasbaskets_d2.show(n=5) #974512"
      ],
      "execution_count": null,
      "outputs": [
        {
          "output_type": "stream",
          "text": [
            "+---------+--------------------+--------------------+\n",
            "|   tconst|        primaryTitle|                cast|\n",
            "+---------+--------------------+--------------------+\n",
            "|tt0000007|Corbett and Court...|[James J. Corbett...|\n",
            "|tt0000378|          Les vagues|[Julie Souplet, G...|\n",
            "|tt0000621|   That Fatal Sneeze|[Gertie Potter, T...|\n",
            "|tt0000653|A Calamitous Elop...|[John R. Cumpson,...|\n",
            "|tt0000841|       The Day After|[Marion Leonard, ...|\n",
            "+---------+--------------------+--------------------+\n",
            "only showing top 5 rows\n",
            "\n"
          ],
          "name": "stdout"
        }
      ]
    },
    {
      "cell_type": "code",
      "metadata": {
        "id": "JSd5xUk95Mty",
        "colab": {
          "base_uri": "https://localhost:8080/"
        },
        "outputId": "cb5ac4a3-9a06-457c-f56b-c942644b809a"
      },
      "source": [
        "#concatenate using hyphen\n",
        "# to have info about the title but still maintaining the basket form (so just one col for the basket and the corresponding\n",
        "# list of itemsets)\n",
        "from pyspark.sql import functions as f\n",
        "\n",
        "moviesasbaskets_d2 = moviesasbaskets_d2.withColumn('movie', f.concat(f.col('tconst'),f.lit('-'),f.col('primaryTitle')))\n",
        "\n",
        "moviesasbaskets_d2 = moviesasbaskets_d2.select('movie', 'cast')\n",
        "moviesasbaskets_d2.show(5)"
      ],
      "execution_count": null,
      "outputs": [
        {
          "output_type": "stream",
          "text": [
            "+--------------------+--------------------+\n",
            "|               movie|                cast|\n",
            "+--------------------+--------------------+\n",
            "|tt0000007-Corbett...|[James J. Corbett...|\n",
            "|tt0000378-Les vagues|[Julie Souplet, G...|\n",
            "|tt0000621-That Fa...|[Gertie Potter, T...|\n",
            "|tt0000653-A Calam...|[John R. Cumpson,...|\n",
            "|tt0000841-The Day...|[Marion Leonard, ...|\n",
            "+--------------------+--------------------+\n",
            "only showing top 5 rows\n",
            "\n"
          ],
          "name": "stdout"
        }
      ]
    },
    {
      "cell_type": "code",
      "metadata": {
        "id": "b-U0nLS25Mwg"
      },
      "source": [
        "# Caching aka persisting-> otherwise randomsplit will lead to inconsistencies, since it changes the randomsplit each\n",
        "# time you perform an operation on the splitted data\n",
        "moviesasbaskets_d2 = moviesasbaskets_d2.persist(pyspark.StorageLevel.MEMORY_AND_DISK)"
      ],
      "execution_count": null,
      "outputs": []
    },
    {
      "cell_type": "code",
      "metadata": {
        "id": "m0A2Q5oi5MzF"
      },
      "source": [
        "# apply the randomSplit() \n",
        "MBAtrain2,MBAtest2 = moviesasbaskets_d2.randomSplit([0.9, 0.1], seed=13)"
      ],
      "execution_count": null,
      "outputs": []
    },
    {
      "cell_type": "code",
      "metadata": {
        "id": "VsPDyRzC5M1n"
      },
      "source": [
        "from pyspark.ml.fpm import FPGrowth\n",
        "fpGrowth2 = FPGrowth(itemsCol=\"cast\", minSupport=0.0001, minConfidence=0)\n",
        "model_d2 = fpGrowth2.fit(MBAtrain2)  #excluding the episodes we consider frequent an actor if it appears in (distinct tconst = 974512)*0.0001 97 films \n",
        "#reasonable"
      ],
      "execution_count": null,
      "outputs": []
    },
    {
      "cell_type": "code",
      "metadata": {
        "id": "Lw0dFm9p5M4H"
      },
      "source": [
        "# Display frequent itemsets.-> NB this result includes all size items!\n",
        "freqItemsets_d2 = model_d2.freqItemsets\n",
        "freqItemsets_d2.createOrReplaceTempView(\"freqItemsets_d2\")\n",
        "freqItemsets_d2.show()"
      ],
      "execution_count": null,
      "outputs": []
    },
    {
      "cell_type": "code",
      "metadata": {
        "id": "06OtLGMw5M7s"
      },
      "source": [
        "from pyspark.sql.functions import col, asc,desc\n",
        "freqItemsets_d2.orderBy(col('freq').desc()).show() \n",
        "#the most frequent actor is no more nm10120013 appearing in > 5000 films BUT Mel Blanc with 925 movies\n",
        "#however taking as minSupport 0.0005 only 5 actors are retrieved and therefore no association rules\n",
        "#therefore try again with a minSupport of 0.0001-> now it works"
      ],
      "execution_count": null,
      "outputs": []
    },
    {
      "cell_type": "code",
      "metadata": {
        "id": "0PnTCk7h5M9s"
      },
      "source": [
        "# Display generated association rules.\n",
        "associationRules_d2 = model_d2.associationRules\n",
        "associationRules_d2.createOrReplaceTempView(\"associationRules_d2\")\n",
        "associationRules_d2.show(n=5) "
      ],
      "execution_count": null,
      "outputs": []
    },
    {
      "cell_type": "code",
      "metadata": {
        "id": "aXKJG2Sd5NAe"
      },
      "source": [
        "#now only two rows in association rules having confidence equal to 1\n",
        "spark.sql(\"\"\"select (*)\n",
        "           from associationRules_d2\n",
        "           where confidence = '1.0' \n",
        "           limit 20\"\"\").show()\n",
        "#We obtain that where there are Curly Howard and Larry Fine there is Moe Howard and where there are Curly Howard and Moe Howard there is Larry Fine"
      ],
      "execution_count": null,
      "outputs": []
    },
    {
      "cell_type": "code",
      "metadata": {
        "id": "9A46Qd485ND6"
      },
      "source": [
        "#for a better understanding ###INTERESTING\n",
        "spark.sql(\"\"\"select antecedent as `antecedent (if)`, consequent as `consequent (then)`, confidence\n",
        "              from associationRules_d2\n",
        "              order by confidence desc\n",
        "              limit 20\"\"\").show()"
      ],
      "execution_count": null,
      "outputs": []
    },
    {
      "cell_type": "code",
      "metadata": {
        "id": "VPKCD8td0-Sj"
      },
      "source": [
        "# transform examines the input items against all the association rules and summarize the consequents as prediction\n",
        "# it would be useful to divide the db in training and test set in order to actually do predictions\n",
        "association_d2 = model_d2.transform(MBAtest2)\n",
        "associations_d2.show()"
      ],
      "execution_count": null,
      "outputs": []
    },
    {
      "cell_type": "code",
      "metadata": {
        "id": "ie0ivugO6PYU"
      },
      "source": [
        "#Doing predictions for MBAtest2\n",
        "associations_d2.createOrReplaceTempView('associations_d2')\n",
        "pred2= spark.sql(\"\"\"select *\n",
        "                      from associations_d2\n",
        "                      where size(prediction) >= 1 \"\"\")\n",
        "pred2.createOrReplaceTempView('pred2')\n",
        "pred2.show() #718 rows in pred_ex2"
      ],
      "execution_count": null,
      "outputs": []
    },
    {
      "cell_type": "code",
      "metadata": {
        "id": "4-ekVw-h6Pcl"
      },
      "source": [
        "#focus the analysis for frequent itemset with one actor only (frequent actors)\n",
        "#NOW filter freqItemsets by those having items = 1 -> most frequent actors banally\n",
        "mostfrequentactor_d2= spark.sql(\"\"\"select items, freq\n",
        "                                    from freqItemsets_d2\n",
        "                                    where size(items) = 1\n",
        "                                    order by freq desc\"\"\")\n",
        "mostfrequentactor_d2.show(n=5)\n",
        "mostfrequentactor_d2.count()"
      ],
      "execution_count": null,
      "outputs": []
    },
    {
      "cell_type": "code",
      "metadata": {
        "id": "hzzMtivy6Pev"
      },
      "source": [
        "#now analysis for frequent itemset with two actors\n",
        "mostfrequent2actors_d2= spark.sql(\"\"\"select items, freq\n",
        "                                      from freqItemsets_d2\n",
        "                                      where size(items) = 2\n",
        "                                      order by freq desc\"\"\")\n",
        "mostfrequent2actors_d2.show(n=5)\n",
        "mostfrequent2actors_d2.count()"
      ],
      "execution_count": null,
      "outputs": []
    },
    {
      "cell_type": "code",
      "metadata": {
        "id": "-kLYr3uA6Pgm"
      },
      "source": [
        "#now analysis for frequent itemset with three actors\n",
        "mostfrequent3actors_d2= spark.sql(\"\"\"select items, freq\n",
        "                                      from freqItemsets_d2\n",
        "                                      where size(items) = 3\n",
        "                                      order by freq desc\"\"\")\n",
        "mostfrequent3actors_d2.show(n=5)\n",
        "mostfrequent3actors_d2.count() "
      ],
      "execution_count": null,
      "outputs": []
    },
    {
      "cell_type": "code",
      "metadata": {
        "id": "UKMpA2ms6Pjy"
      },
      "source": [
        "#for more than 3 actors there is only an itemset, containing 4 actors, considered frequent according to our parameter and having freq = 88\n",
        "#now analysis for frequent itemset with three actors\n",
        "mostfrequentnactors_d2= spark.sql(\"\"\"select items, freq\n",
        "                                      from freqItemsets_d2\n",
        "                                      where size(items) > 3\n",
        "                                      order by freq desc\"\"\")\n",
        "mostfrequentnactors_d2.show(n=5)\n",
        "mostfrequentnactors_d2.count()"
      ],
      "execution_count": null,
      "outputs": []
    },
    {
      "cell_type": "code",
      "metadata": {
        "id": "nGQ3Dj9O6Pll"
      },
      "source": [
        "mostfrequentnactors_d2.toPandas()['items'].tolist() \n",
        "#just to visualize that the 4 most frequent actors are [['Sammy Brooks', 'Harold Lloyd', 'Bebe Daniels', \"'Snub' Pollard\"]]\n",
        "#appearing together in 88 films"
      ],
      "execution_count": null,
      "outputs": []
    }
  ]
}