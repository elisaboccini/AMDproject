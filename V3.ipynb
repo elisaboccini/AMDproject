{
  "nbformat": 4,
  "nbformat_minor": 0,
  "metadata": {
    "colab": {
      "name": "V3.ipynb",
      "provenance": [],
      "authorship_tag": "ABX9TyO9xywuUug7Raw1NFqvDlgD",
      "include_colab_link": true
    },
    "kernelspec": {
      "name": "python3",
      "display_name": "Python 3"
    },
    "language_info": {
      "name": "python"
    }
  },
  "cells": [
    {
      "cell_type": "markdown",
      "metadata": {
        "id": "view-in-github",
        "colab_type": "text"
      },
      "source": [
        "<a href=\"https://colab.research.google.com/github/elisaboccini/AMDproject/blob/main/V3.ipynb\" target=\"_parent\"><img src=\"https://colab.research.google.com/assets/colab-badge.svg\" alt=\"Open In Colab\"/></a>"
      ]
    },
    {
      "cell_type": "markdown",
      "metadata": {
        "id": "QZ4K2MP0tOXk"
      },
      "source": [
        "**Market Basket Analysis**"
      ]
    },
    {
      "cell_type": "markdown",
      "metadata": {
        "id": "R-MLIkz0tbKg"
      },
      "source": [
        "Kaggle API"
      ]
    },
    {
      "cell_type": "code",
      "metadata": {
        "colab": {
          "resources": {
            "http://localhost:8080/nbextensions/google.colab/files.js": {
              "data": "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",
              "ok": true,
              "headers": [
                [
                  "content-type",
                  "application/javascript"
                ]
              ],
              "status": 200,
              "status_text": ""
            }
          },
          "base_uri": "https://localhost:8080/",
          "height": 91
        },
        "id": "987hO3tItH5O",
        "outputId": "e986ae76-1cb5-458b-e3b0-aa0c393e6e6a"
      },
      "source": [
        "from google.colab import files\n",
        "files.upload() #upload kaggle.json"
      ],
      "execution_count": 1,
      "outputs": [
        {
          "output_type": "display_data",
          "data": {
            "text/html": [
              "\n",
              "     <input type=\"file\" id=\"files-228d24ba-8b0c-472a-8e75-6e7d214333f5\" name=\"files[]\" multiple disabled\n",
              "        style=\"border:none\" />\n",
              "     <output id=\"result-228d24ba-8b0c-472a-8e75-6e7d214333f5\">\n",
              "      Upload widget is only available when the cell has been executed in the\n",
              "      current browser session. Please rerun this cell to enable.\n",
              "      </output>\n",
              "      <script src=\"/nbextensions/google.colab/files.js\"></script> "
            ],
            "text/plain": [
              "<IPython.core.display.HTML object>"
            ]
          },
          "metadata": {
            "tags": []
          }
        },
        {
          "output_type": "stream",
          "text": [
            "Saving kaggle.json to kaggle.json\n"
          ],
          "name": "stdout"
        },
        {
          "output_type": "execute_result",
          "data": {
            "text/plain": [
              "{'kaggle.json': b'{\"username\":\"elisaboccini\",\"key\":\"3024605213579b61d22c8ab4775d25f4\"}'}"
            ]
          },
          "metadata": {
            "tags": []
          },
          "execution_count": 1
        }
      ]
    },
    {
      "cell_type": "code",
      "metadata": {
        "colab": {
          "base_uri": "https://localhost:8080/"
        },
        "id": "ib0sGwEUtfBB",
        "outputId": "8984379f-3074-46a7-a6cf-c845931f4e93"
      },
      "source": [
        "#kaggle API \n",
        "!pip install -q kaggle\n",
        "!mkdir -p ~/.kaggle\n",
        "!cp kaggle.json ~/.kaggle/\n",
        "!ls ~/.kaggle\n",
        "!chmod 600 /root/.kaggle/kaggle.json\n",
        "!kaggle datasets download -q ashirwadsangwan/imdb-dataset\n",
        "!unzip imdb-dataset.zip"
      ],
      "execution_count": 2,
      "outputs": [
        {
          "output_type": "stream",
          "text": [
            "kaggle.json\n",
            "Archive:  imdb-dataset.zip\n",
            "  inflating: name.basics.tsv.gz      \n",
            "  inflating: name.basics.tsv/name.basics.tsv  \n",
            "  inflating: title.akas.tsv.gz       \n",
            "  inflating: title.akas.tsv/title.akas.tsv  \n",
            "  inflating: title.basics.tsv.gz     \n",
            "  inflating: title.basics.tsv/title.basics.tsv  \n",
            "  inflating: title.principals.tsv.gz  \n",
            "  inflating: title.principals.tsv/title.principals.tsv  \n",
            "  inflating: title.ratings.tsv.gz    \n",
            "  inflating: title.ratings.tsv/title.ratings.tsv  \n"
          ],
          "name": "stdout"
        }
      ]
    },
    {
      "cell_type": "markdown",
      "metadata": {
        "id": "cJTw_527tnqi"
      },
      "source": [
        "Spark Session"
      ]
    },
    {
      "cell_type": "code",
      "metadata": {
        "colab": {
          "base_uri": "https://localhost:8080/"
        },
        "id": "VzN2Y31btfJq",
        "outputId": "4b3db72d-238f-4cad-a0c5-f1702eb12c9c"
      },
      "source": [
        "#Spark session creation\n",
        "\n",
        "!apt-get install openjdk-8-jdk-headless -qq > /dev/null\n",
        "!wget -q https://www-us.apache.org/dist/spark/spark-3.1.1/spark-3.1.1-bin-hadoop2.7.tgz \n",
        "!tar xf spark-3.1.1-bin-hadoop2.7.tgz\n",
        "!pip install -q findspark\n",
        "!pip install pyspark"
      ],
      "execution_count": 3,
      "outputs": [
        {
          "output_type": "stream",
          "text": [
            "Collecting pyspark\n",
            "\u001b[?25l  Downloading https://files.pythonhosted.org/packages/45/b0/9d6860891ab14a39d4bddf80ba26ce51c2f9dc4805e5c6978ac0472c120a/pyspark-3.1.1.tar.gz (212.3MB)\n",
            "\u001b[K     |████████████████████████████████| 212.3MB 60kB/s \n",
            "\u001b[?25hCollecting py4j==0.10.9\n",
            "\u001b[?25l  Downloading https://files.pythonhosted.org/packages/9e/b6/6a4fb90cd235dc8e265a6a2067f2a2c99f0d91787f06aca4bcf7c23f3f80/py4j-0.10.9-py2.py3-none-any.whl (198kB)\n",
            "\u001b[K     |████████████████████████████████| 204kB 48.1MB/s \n",
            "\u001b[?25hBuilding wheels for collected packages: pyspark\n",
            "  Building wheel for pyspark (setup.py) ... \u001b[?25l\u001b[?25hdone\n",
            "  Created wheel for pyspark: filename=pyspark-3.1.1-py2.py3-none-any.whl size=212767604 sha256=5b0a500cc4de383a196abbf1598dfdbf9f449fb8c2ee02ab2b06595f41522742\n",
            "  Stored in directory: /root/.cache/pip/wheels/0b/90/c0/01de724414ef122bd05f056541fb6a0ecf47c7ca655f8b3c0f\n",
            "Successfully built pyspark\n",
            "Installing collected packages: py4j, pyspark\n",
            "Successfully installed py4j-0.10.9 pyspark-3.1.1\n"
          ],
          "name": "stdout"
        }
      ]
    },
    {
      "cell_type": "code",
      "metadata": {
        "id": "-557EwZXtfL_"
      },
      "source": [
        "import os\n",
        "os.environ[\"JAVA_HOME\"] = \"/usr/lib/jvm/java-8-openjdk-amd64\"\n",
        "os.environ[\"SPARK_HOME\"] = \"/content/spark-3.1.1-bin-hadoop2.7\""
      ],
      "execution_count": 4,
      "outputs": []
    },
    {
      "cell_type": "code",
      "metadata": {
        "id": "6GdmMsRLtfOh"
      },
      "source": [
        "import findspark\n",
        "findspark.init('spark-3.1.1-bin-hadoop2.7')"
      ],
      "execution_count": 5,
      "outputs": []
    },
    {
      "cell_type": "code",
      "metadata": {
        "id": "WA1Z5_sDtfQ1"
      },
      "source": [
        "from pyspark.sql import SparkSession"
      ],
      "execution_count": 6,
      "outputs": []
    },
    {
      "cell_type": "code",
      "metadata": {
        "id": "yzColoZetfTf"
      },
      "source": [
        "#spark = SparkSession.builder.master(\"local[*]\").getOrCreate()\n",
        "#try with 4 g to avoid garbage collection\n",
        "spark = SparkSession.builder.master(\"local\")\\\n",
        "        .appName(\"MBA\")\\\n",
        "        .config('spark.ui.port', '4050')\\\n",
        "        .config(\"spark.driver.memory\", \"15g\") \\\n",
        "        .config(\"spark.driver.maxResultSize\", \"1g\") \\\n",
        "        .config(\"spark.sql.broadcastTimeout\", \"10h\") \\\n",
        "        .getOrCreate()"
      ],
      "execution_count": 7,
      "outputs": []
    },
    {
      "cell_type": "code",
      "metadata": {
        "colab": {
          "base_uri": "https://localhost:8080/"
        },
        "id": "QCoFp4wbtfWH",
        "outputId": "6d65cf09-7af2-4438-fe7c-6ccb2709163b"
      },
      "source": [
        "import pyspark\n",
        "type(spark)"
      ],
      "execution_count": 8,
      "outputs": [
        {
          "output_type": "execute_result",
          "data": {
            "text/plain": [
              "pyspark.sql.session.SparkSession"
            ]
          },
          "metadata": {
            "tags": []
          },
          "execution_count": 8
        }
      ]
    },
    {
      "cell_type": "code",
      "metadata": {
        "id": "2PF0EtZxt69F"
      },
      "source": [
        "#sc = spark.sparkContext"
      ],
      "execution_count": 9,
      "outputs": []
    },
    {
      "cell_type": "markdown",
      "metadata": {
        "id": "H-AkFH2-t_vA"
      },
      "source": [
        "Dataset"
      ]
    },
    {
      "cell_type": "code",
      "metadata": {
        "id": "U5_XT_UdtfZF"
      },
      "source": [
        "principals = spark.read.csv('title.principals.tsv.gz', sep=\"\\t\", header=True, inferSchema=True)\n",
        "#akas = spark.read.csv('title.akas.tsv.gz', sep=\"\\t\", header=True, inferSchema=True)\n",
        "titlebasics = spark.read.csv('title.basics.tsv.gz', sep=\"\\t\", header=True, inferSchema=True)\n",
        "#ratings = spark.read.csv('title.ratings.tsv.gz', sep=\"\\t\", header=True, inferSchema=True)\n",
        "namesbasics = spark.read.csv('name.basics.tsv.gz', sep=\"\\t\", header=True, inferSchema=True)"
      ],
      "execution_count": 10,
      "outputs": []
    },
    {
      "cell_type": "code",
      "metadata": {
        "id": "SN3y_lHHtfck"
      },
      "source": [
        "principals.createOrReplaceTempView(\"principals\")\n",
        "#akas.createOrReplaceTempView(\"akas\")\n",
        "titlebasics.createOrReplaceTempView(\"titlebasics\")\n",
        "#ratings.createOrReplaceTempView(\"ratings\")\n",
        "namesbasics.createOrReplaceTempView(\"namesbasics\")"
      ],
      "execution_count": 11,
      "outputs": []
    },
    {
      "cell_type": "code",
      "metadata": {
        "colab": {
          "base_uri": "https://localhost:8080/"
        },
        "id": "CERkspnzuLt8",
        "outputId": "053bac6d-c1f3-44f8-b12d-e77eef4bb37a"
      },
      "source": [
        "# drop duplicates\n",
        "titlebasics.dropDuplicates((['tconst'])).count() # 6326545\n",
        "namesbasics.dropDuplicates((['nconst'])).count() #9711022"
      ],
      "execution_count": 12,
      "outputs": [
        {
          "output_type": "execute_result",
          "data": {
            "text/plain": [
              "9711022"
            ]
          },
          "metadata": {
            "tags": []
          },
          "execution_count": 12
        }
      ]
    },
    {
      "cell_type": "code",
      "metadata": {
        "colab": {
          "base_uri": "https://localhost:8080/"
        },
        "id": "r5uGLcuHu409",
        "outputId": "cd9da4a7-4783-4a31-f8cc-b39433d7c4bf"
      },
      "source": [
        "#which are the types of items collected in the titlebasics db?\n",
        "spark.sql('''SELECT distinct (titleType)\n",
        "              FROM titlebasics''').show()"
      ],
      "execution_count": 13,
      "outputs": [
        {
          "output_type": "stream",
          "text": [
            "+------------+\n",
            "|   titleType|\n",
            "+------------+\n",
            "|    tvSeries|\n",
            "|tvMiniSeries|\n",
            "|     tvMovie|\n",
            "|   tvEpisode|\n",
            "|       movie|\n",
            "|   tvSpecial|\n",
            "|       video|\n",
            "|   videoGame|\n",
            "|     tvShort|\n",
            "|       short|\n",
            "+------------+\n",
            "\n"
          ],
          "name": "stdout"
        }
      ]
    },
    {
      "cell_type": "code",
      "metadata": {
        "colab": {
          "base_uri": "https://localhost:8080/"
        },
        "id": "4SICODm8uM46",
        "outputId": "860a79a8-e70e-4314-e238-8670a66a3540"
      },
      "source": [
        "#Taking only actors (not crew) and only movies and shorts (not tvSeries, tvMiniSeries, tvEpisode, tvSpecial,video, videogames)\n",
        "data = spark.sql('''SELECT tb.tconst, tb.primaryTitle, nb.primaryName, nb.nconst \n",
        "                          FROM titlebasics as tb LEFT JOIN principals as p ON tb.tconst = p.tconst INNER JOIN namesbasics as nb ON p.nconst = nb.nconst\n",
        "                          WHERE ((p.category = 'actor' OR p.category = 'actress') AND (tb.titleType = 'movie' OR tb.titleType = 'tvMovie' OR tb.titleType = 'short' OR tb.titleType = 'tvShort')) ''')\n",
        "\n",
        "data.createOrReplaceTempView('data')\n",
        "data.show(5)\n",
        "data.count() #3686467-> this also reduces a lot the size of the db (from 14 mln to 3 mln)"
      ],
      "execution_count": 14,
      "outputs": [
        {
          "output_type": "stream",
          "text": [
            "+---------+-----------------+--------------+---------+\n",
            "|   tconst|     primaryTitle|   primaryName|   nconst|\n",
            "+---------+-----------------+--------------+---------+\n",
            "|tt0083109| The Cabbage Soup|Louis de Funès|nm0000086|\n",
            "|tt0062120|The Little Bather|Louis de Funès|nm0000086|\n",
            "|tt0057422|    Squeak-squeak|Louis de Funès|nm0000086|\n",
            "|tt0043691|     The Gamblers|Louis de Funès|nm0000086|\n",
            "|tt0335439| Station mondaine|Louis de Funès|nm0000086|\n",
            "+---------+-----------------+--------------+---------+\n",
            "only showing top 5 rows\n",
            "\n"
          ],
          "name": "stdout"
        },
        {
          "output_type": "execute_result",
          "data": {
            "text/plain": [
              "3686467"
            ]
          },
          "metadata": {
            "tags": []
          },
          "execution_count": 14
        }
      ]
    },
    {
      "cell_type": "code",
      "metadata": {
        "colab": {
          "base_uri": "https://localhost:8080/"
        },
        "id": "i2W51vGUuM7O",
        "outputId": "98f96cb2-1dcd-48b7-b441-51a1ef8cfd0e"
      },
      "source": [
        "spark.sql('''select count(distinct tconst) \n",
        "            from data''').show() # 974512 -> we have actually 1/3 of the unique movies we had before!"
      ],
      "execution_count": 15,
      "outputs": [
        {
          "output_type": "stream",
          "text": [
            "+----------------------+\n",
            "|count(DISTINCT tconst)|\n",
            "+----------------------+\n",
            "|                974512|\n",
            "+----------------------+\n",
            "\n"
          ],
          "name": "stdout"
        }
      ]
    },
    {
      "cell_type": "code",
      "metadata": {
        "colab": {
          "base_uri": "https://localhost:8080/"
        },
        "id": "0KnxRGtcuM9h",
        "outputId": "6ee38e4b-4a13-467a-f181-df3547facc02"
      },
      "source": [
        "#lets see if we can group by primarytitle (if the distinct titles are equivalent to n of tconst)\n",
        "spark.sql('''select count(distinct primaryTitle) \n",
        "            from data''').show() #756111 -> there are homonyms in movies and shorts"
      ],
      "execution_count": 16,
      "outputs": [
        {
          "output_type": "stream",
          "text": [
            "+----------------------------+\n",
            "|count(DISTINCT primaryTitle)|\n",
            "+----------------------------+\n",
            "|                      756111|\n",
            "+----------------------------+\n",
            "\n"
          ],
          "name": "stdout"
        }
      ]
    },
    {
      "cell_type": "markdown",
      "metadata": {
        "id": "paNSyj--xUWr"
      },
      "source": [
        "FP-Growth: pre-processing"
      ]
    },
    {
      "cell_type": "code",
      "metadata": {
        "colab": {
          "base_uri": "https://localhost:8080/"
        },
        "id": "5VBu6LlKuNAK",
        "outputId": "884ae0cb-4af8-435c-dba7-deffac0648e1"
      },
      "source": [
        "#baskets creation\n",
        "from pyspark.sql.functions import collect_set\n",
        "\n",
        "moviesasbaskets = data.groupBy('tconst','primaryTitle').agg(collect_set('primaryName').alias('cast')) #metti un alias\n",
        "moviesasbaskets.createOrReplaceTempView('moviesasbaskets')\n",
        "\n",
        "moviesasbaskets.show(n=5) #974512 -> correct! we have a basket for each unique tconst"
      ],
      "execution_count": 17,
      "outputs": [
        {
          "output_type": "stream",
          "text": [
            "+---------+--------------------+--------------------+\n",
            "|   tconst|        primaryTitle|                cast|\n",
            "+---------+--------------------+--------------------+\n",
            "|tt0000007|Corbett and Court...|[James J. Corbett...|\n",
            "|tt0000378|          Les vagues|[Julie Souplet, G...|\n",
            "|tt0000621|   That Fatal Sneeze|[Gertie Potter, T...|\n",
            "|tt0000653|A Calamitous Elop...|[John R. Cumpson,...|\n",
            "|tt0000841|       The Day After|[Marion Leonard, ...|\n",
            "+---------+--------------------+--------------------+\n",
            "only showing top 5 rows\n",
            "\n"
          ],
          "name": "stdout"
        }
      ]
    },
    {
      "cell_type": "code",
      "metadata": {
        "colab": {
          "base_uri": "https://localhost:8080/"
        },
        "id": "WF6V7dC8uNCr",
        "outputId": "1c3ba494-71b5-42e6-8f13-b346fed7cb93"
      },
      "source": [
        "#concatenate using hyphen\n",
        "# to have info about the title but still maintaining the basket form (so just one col for the basket and the corresponding\n",
        "# list of itemsets)\n",
        "from pyspark.sql import functions as f\n",
        "\n",
        "moviesasbaskets = moviesasbaskets.withColumn('movie', f.concat(f.col('tconst'),f.lit('-'),f.col('primaryTitle')))\n",
        "\n",
        "moviesasbaskets = moviesasbaskets.select('movie', 'cast')\n",
        "moviesasbaskets.show(5)"
      ],
      "execution_count": 18,
      "outputs": [
        {
          "output_type": "stream",
          "text": [
            "+--------------------+--------------------+\n",
            "|               movie|                cast|\n",
            "+--------------------+--------------------+\n",
            "|tt0000007-Corbett...|[James J. Corbett...|\n",
            "|tt0000378-Les vagues|[Julie Souplet, G...|\n",
            "|tt0000621-That Fa...|[Gertie Potter, T...|\n",
            "|tt0000653-A Calam...|[John R. Cumpson,...|\n",
            "|tt0000841-The Day...|[Marion Leonard, ...|\n",
            "+--------------------+--------------------+\n",
            "only showing top 5 rows\n",
            "\n"
          ],
          "name": "stdout"
        }
      ]
    },
    {
      "cell_type": "code",
      "metadata": {
        "id": "1ghPgomauNF2"
      },
      "source": [
        "# Caching aka persisting-> otherwise randomsplit will lead to inconsistencies, since it changes the randomsplit each\n",
        "# time you perform an operation on the splitted data\n",
        "moviesasbaskets = moviesasbaskets.persist(pyspark.StorageLevel.MEMORY_AND_DISK)\n",
        "# apply the randomSplit() \n",
        "MBAtrain,MBAtest = moviesasbaskets.randomSplit([0.9, 0.1], seed=13)"
      ],
      "execution_count": 19,
      "outputs": []
    },
    {
      "cell_type": "markdown",
      "metadata": {
        "id": "dyo0dIjBxc74"
      },
      "source": [
        "FP-Growth: Model implementation"
      ]
    },
    {
      "cell_type": "code",
      "metadata": {
        "id": "kVU2s6HXuNHo"
      },
      "source": [
        "from pyspark.ml.fpm import FPGrowth\n",
        "fpGrowth = FPGrowth(itemsCol=\"cast\", minSupport=0.0003, minConfidence=0)\n",
        "modelFP = fpGrowth.fit(MBAtrain)  \n",
        "#excluding the episodes we consider frequent an actor if it appears in (distinct tconst = 974512)*0.0001 97 films \n",
        "#reasonable"
      ],
      "execution_count": 34,
      "outputs": []
    },
    {
      "cell_type": "markdown",
      "metadata": {
        "id": "7mtLqPfBxlme"
      },
      "source": [
        "FP-Growth: Results"
      ]
    },
    {
      "cell_type": "code",
      "metadata": {
        "colab": {
          "base_uri": "https://localhost:8080/"
        },
        "id": "zve_Tj8RuNLW",
        "outputId": "b6b0eee6-b966-4811-f2b0-87968dde03b0"
      },
      "source": [
        "# Display frequent itemsets.-> NB this result includes all size items!\n",
        "from pyspark.sql.functions import col, asc,desc\n",
        "freqItemsets = modelFP.freqItemsets\n",
        "freqItemsets.createOrReplaceTempView(\"freqItemsets\")\n",
        "freqItemsets.orderBy(col('freq').desc()).show()\n",
        "#the most frequent actor is no more nm10120013 appearing in > 5000 films BUT Mel Blanc with 925 movies\n",
        "#however taking as minSupport 0.0005 only 5 actors are retrieved and therefore no association rules\n",
        "#therefore try again with a minSupport of 0.0001-> now it works\n",
        "#try also to set minSUpport as 0.0003 as in the Apriori analysis"
      ],
      "execution_count": 35,
      "outputs": [
        {
          "output_type": "stream",
          "text": [
            "+--------------------+----+\n",
            "|               items|freq|\n",
            "+--------------------+----+\n",
            "|         [Mel Blanc]| 925|\n",
            "|  [Matsunosuke Onoe]| 837|\n",
            "|      [Brahmanandam]| 725|\n",
            "|       [Adoor Bhasi]| 529|\n",
            "|      [Eddie Garcia]| 475|\n",
            "|       [Jack Mercer]| 406|\n",
            "|         [Lee Moran]| 393|\n",
            "|        [Prem Nazir]| 384|\n",
            "|   [Jack Richardson]| 384|\n",
            "|       [Eddie Lyons]| 378|\n",
            "|      [Sung-il Shin]| 370|\n",
            "|      [Paquito Diaz]| 356|\n",
            "|      [Oliver Hardy]| 355|\n",
            "|  [Masayoshi Nogami]| 352|\n",
            "|[J. Warren Kerrigan]| 339|\n",
            "|         [Mammootty]| 339|\n",
            "|          [Mohanlal]| 314|\n",
            "|    [Aachi Manorama]| 313|\n",
            "|       [Mae Questel]| 309|\n",
            "|           [Bahadur]| 308|\n",
            "+--------------------+----+\n",
            "only showing top 20 rows\n",
            "\n"
          ],
          "name": "stdout"
        }
      ]
    },
    {
      "cell_type": "code",
      "metadata": {
        "colab": {
          "base_uri": "https://localhost:8080/"
        },
        "id": "a91PefodwGun",
        "outputId": "e9f02e0c-7a93-42fa-c40a-d3101048254a"
      },
      "source": [
        "# Display generated association rules.\n",
        "associationRules = modelFP.associationRules\n",
        "associationRules.createOrReplaceTempView(\"associationRules\")\n",
        "associationRules.show(n=5) "
      ],
      "execution_count": 36,
      "outputs": [
        {
          "output_type": "stream",
          "text": [
            "+-------------+-------------+------------------+------------------+--------------------+\n",
            "|   antecedent|   consequent|        confidence|              lift|             support|\n",
            "+-------------+-------------+------------------+------------------+--------------------+\n",
            "|[Eddie Lyons]|  [Lee Moran]| 0.783068783068783|1747.4588365173606|3.375142531356898...|\n",
            "|  [Lee Moran]|[Eddie Lyons]|0.7531806615776081|1747.4588365173606|3.375142531356898...|\n",
            "+-------------+-------------+------------------+------------------+--------------------+\n",
            "\n"
          ],
          "name": "stdout"
        }
      ]
    },
    {
      "cell_type": "code",
      "metadata": {
        "colab": {
          "base_uri": "https://localhost:8080/"
        },
        "id": "uw9dge0OwGx9",
        "outputId": "d4090b83-157a-4231-df76-30e4d11d72b1"
      },
      "source": [
        "#now only two rows in association rules having confidence equal to 1\n",
        "spark.sql(\"\"\"select (*)\n",
        "           from associationRules\n",
        "           where confidence = '1.0' \n",
        "           limit 20\"\"\").show()\n",
        "#We obtain that where there are Curly Howard and Larry Fine there is Moe Howard and where there are Curly Howard and Moe Howard there is Larry Fine"
      ],
      "execution_count": 37,
      "outputs": [
        {
          "output_type": "stream",
          "text": [
            "+----------+----------+----------+----+-------+\n",
            "|antecedent|consequent|confidence|lift|support|\n",
            "+----------+----------+----------+----+-------+\n",
            "+----------+----------+----------+----+-------+\n",
            "\n"
          ],
          "name": "stdout"
        }
      ]
    },
    {
      "cell_type": "code",
      "metadata": {
        "colab": {
          "base_uri": "https://localhost:8080/"
        },
        "id": "pe3LkmPMwG0s",
        "outputId": "6f4eea52-4e2c-42f6-cef8-41f8b0f715b6"
      },
      "source": [
        "#for a better understanding ###INTERESTING\n",
        "spark.sql(\"\"\"select antecedent as `antecedent (if)`, consequent as `consequent (then)`, confidence\n",
        "              from associationRules\n",
        "              order by confidence desc\n",
        "              limit 20\"\"\").show()"
      ],
      "execution_count": 38,
      "outputs": [
        {
          "output_type": "stream",
          "text": [
            "+---------------+-----------------+------------------+\n",
            "|antecedent (if)|consequent (then)|        confidence|\n",
            "+---------------+-----------------+------------------+\n",
            "|  [Eddie Lyons]|      [Lee Moran]| 0.783068783068783|\n",
            "|    [Lee Moran]|    [Eddie Lyons]|0.7531806615776081|\n",
            "+---------------+-----------------+------------------+\n",
            "\n"
          ],
          "name": "stdout"
        }
      ]
    },
    {
      "cell_type": "code",
      "metadata": {
        "colab": {
          "base_uri": "https://localhost:8080/"
        },
        "id": "ALKvZn8PwG2z",
        "outputId": "40824d9c-3fc2-4a2f-eefb-589fdb2057fd"
      },
      "source": [
        "# transform examines the input items against all the association rules and summarize the consequents as prediction\n",
        "# it would be useful to divide the db in training and test set in order to actually do predictions\n",
        "association = modelFP.transform(MBAtest)\n",
        "association.show()"
      ],
      "execution_count": 39,
      "outputs": [
        {
          "output_type": "stream",
          "text": [
            "+--------------------+--------------------+----------+\n",
            "|               movie|                cast|prediction|\n",
            "+--------------------+--------------------+----------+\n",
            "|tt0000378-Les vagues|[Julie Souplet, G...|        []|\n",
            "|   tt0006235-The Vow|    [Marion Leonard]|        []|\n",
            "|tt0006399-The Ban...|[Francis Ford, Jo...|        []|\n",
            "|tt0006538-The Com...|[Harold Lockwood,...|        []|\n",
            "|tt0007213-The Pri...|[Frank Whitson, D...|        []|\n",
            "|tt0017047-The Win...|[Ivan Klyukvin, V...|        []|\n",
            "|tt0017055-The Lad...|[Roy Stewart, Ral...|        []|\n",
            "|tt0018691-Beware ...|[William Collier ...|        []|\n",
            "|tt0020073-The Lad...|[Mona Goya, Bruce...|        []|\n",
            "|tt0027147-Two for...|[Mary Boland, Bin...|        []|\n",
            "|tt0028509-Windbag...|[Norma Varden, Gr...|        []|\n",
            "|tt0029282-My Arti...|[Mae Questel, Jac...|        []|\n",
            "|tt0030958-The Nov...|[Jean Galland, Je...|        []|\n",
            "| tt0034335-Under Age|[Mary Anderson, T...|        []|\n",
            "|tt0035213-Le prin...|[Jimmy Gaillard, ...|        []|\n",
            "|tt0035788-Death V...|[Bob Steele, Ken ...|        []|\n",
            "|tt0036812-Die fal...|[Josef Eichheim, ...|        []|\n",
            "|tt0037447-Waterlo...|[Joy Shelton, Joh...|        []|\n",
            "|tt0045189-Steel Town|[John Lund, Howar...|        []|\n",
            "|tt0048220-Jack an...|     [Deryck Guyler]|        []|\n",
            "+--------------------+--------------------+----------+\n",
            "only showing top 20 rows\n",
            "\n"
          ],
          "name": "stdout"
        }
      ]
    },
    {
      "cell_type": "code",
      "metadata": {
        "colab": {
          "base_uri": "https://localhost:8080/"
        },
        "id": "QKiih0Nww8cI",
        "outputId": "97bf853c-0d70-4c4e-fca7-7cfdae75ec49"
      },
      "source": [
        "#Doing predictions for MBAtest2\n",
        "association.createOrReplaceTempView('association')\n",
        "predFP= spark.sql(\"\"\"select *\n",
        "                      from association\n",
        "                      where size(prediction) >= 1 \"\"\")\n",
        "predFP.createOrReplaceTempView('predFP')\n",
        "predFP.show() #718 rows in pred_ex2"
      ],
      "execution_count": 40,
      "outputs": [
        {
          "output_type": "stream",
          "text": [
            "+--------------------+--------------------+-------------+\n",
            "|               movie|                cast|   prediction|\n",
            "+--------------------+--------------------+-------------+\n",
            "|tt0256990-The Par...|[William Bertram,...|  [Lee Moran]|\n",
            "|tt1318984-Three o...|[Dick Dewell, Jac...|[Eddie Lyons]|\n",
            "|tt0249766-A Lucky...|       [Eddie Lyons]|  [Lee Moran]|\n",
            "|tt0332698-A Man o...|[Stella Adams, Do...|[Eddie Lyons]|\n",
            "|tt0334724-Women F...|[Alberta Vaughn, ...|[Eddie Lyons]|\n",
            "|tt0345092-Cupid's...|[Stella Adams, Ed...|  [Lee Moran]|\n",
            "|    tt0016415-Tessie|[May McAvoy, Myrt...|[Eddie Lyons]|\n",
            "|tt0256893-Love, W...|[William Bertram,...|  [Lee Moran]|\n",
            "| tt0024482-Racetrack|[Leo Carrillo, Ka...|[Eddie Lyons]|\n",
            "|tt0334696-Weighed...|[Lee Moran, Ramon...|[Eddie Lyons]|\n",
            "|tt1334291-When He...|       [Eddie Lyons]|  [Lee Moran]|\n",
            "|tt0862778-Only a ...|       [Eddie Lyons]|  [Lee Moran]|\n",
            "|tt0017446-Syncopa...|[Rockliffe Fellow...|[Eddie Lyons]|\n",
            "|tt0014829-Daring ...|[Norman Kerry, Be...|[Eddie Lyons]|\n",
            "|tt0830680-That's ...|[James Donlan, Wa...|[Eddie Lyons]|\n",
            "|tt0329121-The Gir...|[Stella Adams, La...|[Eddie Lyons]|\n",
            "|tt0334705-When Hi...|[Billie Ritchie, ...|[Eddie Lyons]|\n",
            "|tt0349293-Cupid's...|[Lee Moran, Ramon...|[Eddie Lyons]|\n",
            "|tt0334698-Western...|[Donald MacDonald...|[Eddie Lyons]|\n",
            "|tt1293844-Won by ...|[Lee Moran, Ramon...|[Eddie Lyons]|\n",
            "+--------------------+--------------------+-------------+\n",
            "\n"
          ],
          "name": "stdout"
        }
      ]
    },
    {
      "cell_type": "code",
      "metadata": {
        "colab": {
          "base_uri": "https://localhost:8080/"
        },
        "id": "kkW9gDbZw8el",
        "outputId": "f9b10bae-89d6-436f-a75c-656dda1c9b4f"
      },
      "source": [
        "#focus the analysis for frequent itemset with one actor only (frequent actors)\n",
        "#NOW filter freqItemsets by those having items = 1 -> most frequent actors banally\n",
        "mostfrequentactor= spark.sql(\"\"\"select items, freq\n",
        "                                    from freqItemsets\n",
        "                                    where size(items) = 1\n",
        "                                    order by freq desc\"\"\")\n",
        "mostfrequentactor.show(n=5)\n",
        "mostfrequentactor.count()"
      ],
      "execution_count": 41,
      "outputs": [
        {
          "output_type": "stream",
          "text": [
            "+------------------+----+\n",
            "|             items|freq|\n",
            "+------------------+----+\n",
            "|       [Mel Blanc]| 925|\n",
            "|[Matsunosuke Onoe]| 837|\n",
            "|    [Brahmanandam]| 725|\n",
            "|     [Adoor Bhasi]| 529|\n",
            "|    [Eddie Garcia]| 475|\n",
            "+------------------+----+\n",
            "only showing top 5 rows\n",
            "\n"
          ],
          "name": "stdout"
        },
        {
          "output_type": "execute_result",
          "data": {
            "text/plain": [
              "41"
            ]
          },
          "metadata": {
            "tags": []
          },
          "execution_count": 41
        }
      ]
    },
    {
      "cell_type": "code",
      "metadata": {
        "colab": {
          "base_uri": "https://localhost:8080/"
        },
        "id": "jIwOCb6kw8iL",
        "outputId": "863620df-146f-4ec1-b224-6699d45e0776"
      },
      "source": [
        "#now analysis for frequent itemset with two actors\n",
        "mostfrequent2actors= spark.sql(\"\"\"select items, freq\n",
        "                                      from freqItemsets\n",
        "                                      where size(items) = 2\n",
        "                                      order by freq desc\"\"\")\n",
        "mostfrequent2actors.show(n=5)\n",
        "mostfrequent2actors.count()"
      ],
      "execution_count": 42,
      "outputs": [
        {
          "output_type": "stream",
          "text": [
            "+--------------------+----+\n",
            "|               items|freq|\n",
            "+--------------------+----+\n",
            "|[Eddie Lyons, Lee...| 296|\n",
            "+--------------------+----+\n",
            "\n"
          ],
          "name": "stdout"
        },
        {
          "output_type": "execute_result",
          "data": {
            "text/plain": [
              "1"
            ]
          },
          "metadata": {
            "tags": []
          },
          "execution_count": 42
        }
      ]
    },
    {
      "cell_type": "code",
      "metadata": {
        "colab": {
          "base_uri": "https://localhost:8080/"
        },
        "id": "zn-tcwpvxGXk",
        "outputId": "8105e268-c46a-4feb-dbde-83a5f61db87a"
      },
      "source": [
        "#now analysis for frequent itemset with three actors\n",
        "mostfrequent3actors= spark.sql(\"\"\"select items, freq\n",
        "                                      from freqItemsets\n",
        "                                      where size(items) = 3\n",
        "                                      order by freq desc\"\"\")\n",
        "mostfrequent3actors.show(n=5)\n",
        "mostfrequent3actors.count() "
      ],
      "execution_count": 43,
      "outputs": [
        {
          "output_type": "stream",
          "text": [
            "+-----+----+\n",
            "|items|freq|\n",
            "+-----+----+\n",
            "+-----+----+\n",
            "\n"
          ],
          "name": "stdout"
        },
        {
          "output_type": "execute_result",
          "data": {
            "text/plain": [
              "0"
            ]
          },
          "metadata": {
            "tags": []
          },
          "execution_count": 43
        }
      ]
    },
    {
      "cell_type": "code",
      "metadata": {
        "colab": {
          "base_uri": "https://localhost:8080/"
        },
        "id": "V7InE0c8xGaL",
        "outputId": "e1cd6cfc-ad12-431e-ceb5-9f8d387017fb"
      },
      "source": [
        "#for more than 3 actors there is only an itemset, containing 4 actors, considered frequent according to our parameter and having freq = 88\n",
        "#now analysis for frequent itemset with three actors\n",
        "mostfrequentnactors= spark.sql(\"\"\"select items, freq\n",
        "                                      from freqItemsets\n",
        "                                      where size(items) > 3\n",
        "                                      order by freq desc\"\"\")\n",
        "mostfrequentnactors.show(n=5)\n",
        "mostfrequentnactors.count()"
      ],
      "execution_count": 31,
      "outputs": [
        {
          "output_type": "stream",
          "text": [
            "+--------------------+----+\n",
            "|               items|freq|\n",
            "+--------------------+----+\n",
            "|[Sammy Brooks, Ha...|  88|\n",
            "+--------------------+----+\n",
            "\n"
          ],
          "name": "stdout"
        },
        {
          "output_type": "execute_result",
          "data": {
            "text/plain": [
              "1"
            ]
          },
          "metadata": {
            "tags": []
          },
          "execution_count": 31
        }
      ]
    },
    {
      "cell_type": "code",
      "metadata": {
        "colab": {
          "base_uri": "https://localhost:8080/"
        },
        "id": "M7Rr2WnMxGdl",
        "outputId": "52778e9f-fec6-4483-9adc-0d339d6fb3b3"
      },
      "source": [
        "mostfrequentnactors.toPandas()['items'].tolist() \n",
        "#just to visualize that the 4 most frequent actors are [['Sammy Brooks', 'Harold Lloyd', 'Bebe Daniels', \"'Snub' Pollard\"]]\n",
        "#appearing together in 88 films"
      ],
      "execution_count": 33,
      "outputs": [
        {
          "output_type": "execute_result",
          "data": {
            "text/plain": [
              "[['Sammy Brooks', 'Harold Lloyd', 'Bebe Daniels', \"'Snub' Pollard\"]]"
            ]
          },
          "metadata": {
            "tags": []
          },
          "execution_count": 33
        }
      ]
    }
  ]
}